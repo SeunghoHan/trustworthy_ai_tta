{
 "cells": [
  {
   "cell_type": "markdown",
   "id": "209d72dd-e541-48fa-8064-fad8c1e3d781",
   "metadata": {},
   "source": [
    "# Reverse Sigmoid (Post-processing)\n",
    "---\n",
    "\n",
    "### API Reference:\n",
    "- hhttps://adversarial-robustness-toolbox.readthedocs.io/en/latest/modules/defences/postprocessor.html#reverse-sigmoid\n",
    "\n",
    "### Related Paper:\n",
    "- https://arxiv.org/abs/1806.00054\n",
    "\n",
    "### Description\n",
    "- In this demo, we check a reverse sigmoid which is an one of the post-porcess defence. To do this, we select the extraction attacks such as [Copycat CNN](https://arxiv.org/abs/1806.05476) and [KnockoffNets](https://arxiv.org/abs/1812.02766), then apply the reverse sigmoid to them and chekc the results.\n",
    "\n",
    "---"
   ]
  },
  {
   "cell_type": "code",
   "execution_count": 2,
   "id": "9cbd9af6-ceb6-4462-b2bb-4ff670f96f86",
   "metadata": {},
   "outputs": [],
   "source": [
    "import numpy as np\n",
    "import matplotlib.pyplot as plt\n",
    "%matplotlib inline\n",
    "\n",
    "import tensorflow as tf\n",
    "tf.compat.v1.disable_eager_execution() # To use the ART\n",
    "tf.get_logger().setLevel('ERROR')\n",
    "from tensorflow.keras.models import Sequential\n",
    "from tensorflow.keras.layers import Dense, Flatten, Conv2D, MaxPooling2D, Flatten, InputLayer, Reshape\n",
    "\n",
    "from art.estimators.classification import KerasClassifier"
   ]
  },
  {
   "cell_type": "markdown",
   "id": "30407e64-d47d-41fa-8be5-15281c1203e3",
   "metadata": {},
   "source": [
    "### Laod MNIST dataset"
   ]
  },
  {
   "cell_type": "code",
   "execution_count": 3,
   "id": "3e598f1a-a244-4115-b842-397dd664ac64",
   "metadata": {},
   "outputs": [],
   "source": [
    "import art\n",
    "from art.utils import load_mnist\n",
    "\n",
    "(x_train, y_train), (x_test0, y_test0), min_, max_ = load_mnist()\n",
    "len_steal = 5000\n",
    "indices = np.random.permutation(len(x_test0))\n",
    "x_steal = x_test0[indices[:len_steal]]\n",
    "y_steal = y_test0[indices[:len_steal]]\n",
    "x_test = x_test0[indices[len_steal:]]\n",
    "y_test = y_test0[indices[len_steal:]]"
   ]
  },
  {
   "cell_type": "markdown",
   "id": "e24d32e9-e650-4df2-9deb-19beb59e979e",
   "metadata": {},
   "source": [
    "## Define the model and train it"
   ]
  },
  {
   "cell_type": "code",
   "execution_count": 6,
   "id": "c813cbc9-a72c-4487-9f3f-b9d8b0cb67e1",
   "metadata": {},
   "outputs": [],
   "source": [
    "im_shape = x_train[0].shape\n",
    "def get_model(num_classes=10, c1=32, c2=64, d1=128):\n",
    "    model = Sequential()\n",
    "    model.add(Conv2D(c1, kernel_size=(3, 3), activation='relu', input_shape=im_shape))\n",
    "    model.add(Conv2D(c2, (3, 3), activation='relu'))\n",
    "    model.add(MaxPooling2D(pool_size=(2, 2)))\n",
    "    model.add(Flatten())\n",
    "    model.add(Dense(d1, activation='relu'))\n",
    "    model.add(Dense(num_classes, activation='softmax'))\n",
    "    model.compile(loss=tf.keras.losses.categorical_crossentropy, optimizer=\"sgd\",\n",
    "                          metrics=['accuracy'])\n",
    "    return model"
   ]
  },
  {
   "cell_type": "code",
   "execution_count": 7,
   "id": "1e555d02-7e83-4584-927f-5dde18f7fc05",
   "metadata": {
    "collapsed": true,
    "jupyter": {
     "outputs_hidden": true
    },
    "tags": []
   },
   "outputs": [
    {
     "name": "stdout",
     "output_type": "stream",
     "text": [
      "Original model training:\n",
      "Train on 60000 samples\n"
     ]
    },
    {
     "name": "stderr",
     "output_type": "stream",
     "text": [
      "2021-12-21 15:16:50.625466: I tensorflow/stream_executor/cuda/cuda_gpu_executor.cc:937] successful NUMA node read from SysFS had negative value (-1), but there must be at least one NUMA node, so returning NUMA node zero\n",
      "2021-12-21 15:16:50.626050: I tensorflow/stream_executor/cuda/cuda_gpu_executor.cc:937] successful NUMA node read from SysFS had negative value (-1), but there must be at least one NUMA node, so returning NUMA node zero\n",
      "2021-12-21 15:16:50.629826: I tensorflow/stream_executor/cuda/cuda_gpu_executor.cc:937] successful NUMA node read from SysFS had negative value (-1), but there must be at least one NUMA node, so returning NUMA node zero\n",
      "2021-12-21 15:16:50.630434: I tensorflow/stream_executor/cuda/cuda_gpu_executor.cc:937] successful NUMA node read from SysFS had negative value (-1), but there must be at least one NUMA node, so returning NUMA node zero\n",
      "2021-12-21 15:16:50.630903: I tensorflow/stream_executor/cuda/cuda_gpu_executor.cc:937] successful NUMA node read from SysFS had negative value (-1), but there must be at least one NUMA node, so returning NUMA node zero\n",
      "2021-12-21 15:16:50.631447: I tensorflow/stream_executor/cuda/cuda_gpu_executor.cc:937] successful NUMA node read from SysFS had negative value (-1), but there must be at least one NUMA node, so returning NUMA node zero\n",
      "2021-12-21 15:16:50.632489: I tensorflow/core/platform/cpu_feature_guard.cc:142] This TensorFlow binary is optimized with oneAPI Deep Neural Network Library (oneDNN) to use the following CPU instructions in performance-critical operations:  AVX2 FMA\n",
      "To enable them in other operations, rebuild TensorFlow with the appropriate compiler flags.\n",
      "2021-12-21 15:16:50.795088: I tensorflow/stream_executor/cuda/cuda_gpu_executor.cc:937] successful NUMA node read from SysFS had negative value (-1), but there must be at least one NUMA node, so returning NUMA node zero\n",
      "2021-12-21 15:16:50.795843: I tensorflow/stream_executor/cuda/cuda_gpu_executor.cc:937] successful NUMA node read from SysFS had negative value (-1), but there must be at least one NUMA node, so returning NUMA node zero\n",
      "2021-12-21 15:16:50.796426: I tensorflow/stream_executor/cuda/cuda_gpu_executor.cc:937] successful NUMA node read from SysFS had negative value (-1), but there must be at least one NUMA node, so returning NUMA node zero\n",
      "2021-12-21 15:16:50.797074: I tensorflow/stream_executor/cuda/cuda_gpu_executor.cc:937] successful NUMA node read from SysFS had negative value (-1), but there must be at least one NUMA node, so returning NUMA node zero\n",
      "2021-12-21 15:16:50.797638: I tensorflow/stream_executor/cuda/cuda_gpu_executor.cc:937] successful NUMA node read from SysFS had negative value (-1), but there must be at least one NUMA node, so returning NUMA node zero\n",
      "2021-12-21 15:16:50.798266: I tensorflow/stream_executor/cuda/cuda_gpu_executor.cc:937] successful NUMA node read from SysFS had negative value (-1), but there must be at least one NUMA node, so returning NUMA node zero\n",
      "2021-12-21 15:16:51.298021: I tensorflow/stream_executor/cuda/cuda_gpu_executor.cc:937] successful NUMA node read from SysFS had negative value (-1), but there must be at least one NUMA node, so returning NUMA node zero\n",
      "2021-12-21 15:16:51.298852: I tensorflow/stream_executor/cuda/cuda_gpu_executor.cc:937] successful NUMA node read from SysFS had negative value (-1), but there must be at least one NUMA node, so returning NUMA node zero\n",
      "2021-12-21 15:16:51.299363: I tensorflow/stream_executor/cuda/cuda_gpu_executor.cc:937] successful NUMA node read from SysFS had negative value (-1), but there must be at least one NUMA node, so returning NUMA node zero\n",
      "2021-12-21 15:16:51.299949: I tensorflow/stream_executor/cuda/cuda_gpu_executor.cc:937] successful NUMA node read from SysFS had negative value (-1), but there must be at least one NUMA node, so returning NUMA node zero\n",
      "2021-12-21 15:16:51.300492: I tensorflow/stream_executor/cuda/cuda_gpu_executor.cc:937] successful NUMA node read from SysFS had negative value (-1), but there must be at least one NUMA node, so returning NUMA node zero\n",
      "2021-12-21 15:16:51.301068: I tensorflow/core/common_runtime/gpu/gpu_device.cc:1510] Created device /job:localhost/replica:0/task:0/device:GPU:0 with 22850 MB memory:  -> device: 0, name: TITAN RTX, pci bus id: 0000:01:00.0, compute capability: 7.5\n",
      "2021-12-21 15:16:51.301395: I tensorflow/stream_executor/cuda/cuda_gpu_executor.cc:937] successful NUMA node read from SysFS had negative value (-1), but there must be at least one NUMA node, so returning NUMA node zero\n",
      "2021-12-21 15:16:51.301910: I tensorflow/core/common_runtime/gpu/gpu_device.cc:1510] Created device /job:localhost/replica:0/task:0/device:GPU:1 with 16692 MB memory:  -> device: 1, name: TITAN RTX, pci bus id: 0000:04:00.0, compute capability: 7.5\n"
     ]
    },
    {
     "name": "stdout",
     "output_type": "stream",
     "text": [
      "Epoch 1/5\n"
     ]
    },
    {
     "name": "stderr",
     "output_type": "stream",
     "text": [
      "2021-12-21 15:16:51.867932: I tensorflow/stream_executor/cuda/cuda_dnn.cc:369] Loaded cuDNN version 8101\n"
     ]
    },
    {
     "name": "stdout",
     "output_type": "stream",
     "text": [
      "60000/60000 [==============================] - 4s 68us/sample - loss: 0.6190 - accuracy: 0.8309\n",
      "Epoch 2/5\n",
      "60000/60000 [==============================] - 2s 39us/sample - loss: 0.2482 - accuracy: 0.9255\n",
      "Epoch 3/5\n",
      "60000/60000 [==============================] - 3s 50us/sample - loss: 0.1853 - accuracy: 0.9434\n",
      "Epoch 4/5\n",
      "60000/60000 [==============================] - 3s 45us/sample - loss: 0.1525 - accuracy: 0.9535\n",
      "Epoch 5/5\n",
      "60000/60000 [==============================] - 3s 46us/sample - loss: 0.1307 - accuracy: 0.9605\n",
      "Original model evaluation:\n"
     ]
    },
    {
     "name": "stderr",
     "output_type": "stream",
     "text": [
      "/archive/library/anaconda3/envs/tta/lib/python3.7/site-packages/keras/engine/training.py:2470: UserWarning: `Model.state_updates` will be removed in a future version. This property should not be used in TensorFlow 2.0, as `updates` are applied automatically.\n",
      "  warnings.warn('`Model.state_updates` will be removed in a future version. '\n"
     ]
    },
    {
     "name": "stdout",
     "output_type": "stream",
     "text": [
      "[0.12971224214732646, 0.9602]\n"
     ]
    }
   ],
   "source": [
    "# Train the original model.\n",
    "num_epochs = 5\n",
    "model = get_model(num_classes=10, c1=32, c2=64, d1=128)\n",
    "print(\"Original model training:\")\n",
    "model.fit(x_train, y_train, batch_size=100, epochs=num_epochs)\n",
    "print(\"Original model evaluation:\")\n",
    "print(model.evaluate(x_test, y_test))\n",
    "classifier_original = KerasClassifier(model, clip_values=(min_, max_), use_logits=False)"
   ]
  },
  {
   "cell_type": "code",
   "execution_count": 8,
   "id": "96e1f968-cf98-4c14-9b41-45d5bca8a05b",
   "metadata": {},
   "outputs": [
    {
     "name": "stdout",
     "output_type": "stream",
     "text": [
      "Original test data (first 100 images):\n",
      "Correctly classified: 98\n",
      "Incorrectly classified: 2\n"
     ]
    }
   ],
   "source": [
    "x_test_pred = np.argmax(classifier_original.predict(x_test[:100]), axis=1)\n",
    "nb_correct_pred = np.sum(x_test_pred == np.argmax(y_test[:100], axis=1))\n",
    "\n",
    "print(\"Original test data (first 100 images):\")\n",
    "print(\"Correctly classified: {}\".format(nb_correct_pred))\n",
    "print(\"Incorrectly classified: {}\".format(100-nb_correct_pred))"
   ]
  },
  {
   "cell_type": "markdown",
   "id": "888739bc-edef-48cb-9475-6f030e7eccb6",
   "metadata": {},
   "source": [
    "### Extraction attacks using CopycatCNN and KnockoffNets"
   ]
  },
  {
   "cell_type": "code",
   "execution_count": 9,
   "id": "c8d7b8dd-1fe0-461d-94f7-02b129b09987",
   "metadata": {
    "collapsed": true,
    "jupyter": {
     "outputs_hidden": true
    },
    "tags": []
   },
   "outputs": [
    {
     "name": "stdout",
     "output_type": "stream",
     "text": [
      "Train on 250 samples\n",
      "Epoch 1/5\n",
      "250/250 [==============================] - 0s 339us/sample - loss: 2.3203 - accuracy: 0.0760\n",
      "Epoch 2/5\n",
      "250/250 [==============================] - 0s 42us/sample - loss: 2.3028 - accuracy: 0.1400\n",
      "Epoch 3/5\n",
      "250/250 [==============================] - 0s 41us/sample - loss: 2.2864 - accuracy: 0.2240\n",
      "Epoch 4/5\n",
      "250/250 [==============================] - 0s 39us/sample - loss: 2.2707 - accuracy: 0.2560\n",
      "Epoch 5/5\n",
      "250/250 [==============================] - 0s 38us/sample - loss: 2.2547 - accuracy: 0.2560\n",
      "Probabilistic CopycatCNN : 0.18420513\n",
      "Train on 250 samples\n",
      "Epoch 1/5\n",
      "250/250 [==============================] - 0s 201us/sample - loss: 2.2971 - accuracy: 0.2080\n",
      "Epoch 2/5\n",
      "250/250 [==============================] - 0s 46us/sample - loss: 2.2823 - accuracy: 0.2520\n",
      "Epoch 3/5\n",
      "250/250 [==============================] - 0s 40us/sample - loss: 2.2689 - accuracy: 0.2920\n",
      "Epoch 4/5\n",
      "250/250 [==============================] - 0s 40us/sample - loss: 2.2549 - accuracy: 0.3360\n",
      "Epoch 5/5\n",
      "250/250 [==============================] - 0s 41us/sample - loss: 2.2403 - accuracy: 0.3960\n",
      "Argmax CopycatCNN : 0.3134359\n",
      "Probabilistic KnockoffNets : 0.33107692\n",
      "Argmax KnockoffNets : 0.23282051\n",
      "Train on 500 samples\n",
      "Epoch 1/5\n",
      "500/500 [==============================] - 0s 153us/sample - loss: 2.3082 - accuracy: 0.0600\n",
      "Epoch 2/5\n",
      "500/500 [==============================] - 0s 38us/sample - loss: 2.2825 - accuracy: 0.1940\n",
      "Epoch 3/5\n",
      "500/500 [==============================] - 0s 38us/sample - loss: 2.2568 - accuracy: 0.2640\n",
      "Epoch 4/5\n",
      "500/500 [==============================] - 0s 39us/sample - loss: 2.2285 - accuracy: 0.3100\n",
      "Epoch 5/5\n",
      "500/500 [==============================] - 0s 45us/sample - loss: 2.1956 - accuracy: 0.3360\n",
      "Probabilistic CopycatCNN : 0.29094738\n",
      "Train on 500 samples\n",
      "Epoch 1/5\n",
      "500/500 [==============================] - 0s 115us/sample - loss: 2.3003 - accuracy: 0.0860\n",
      "Epoch 2/5\n",
      "500/500 [==============================] - 0s 39us/sample - loss: 2.2710 - accuracy: 0.2060\n",
      "Epoch 3/5\n",
      "500/500 [==============================] - 0s 40us/sample - loss: 2.2414 - accuracy: 0.3680\n",
      "Epoch 4/5\n",
      "500/500 [==============================] - 0s 50us/sample - loss: 2.2084 - accuracy: 0.4220\n",
      "Epoch 5/5\n",
      "500/500 [==============================] - 0s 45us/sample - loss: 2.1685 - accuracy: 0.4340\n",
      "Argmax CopycatCNN : 0.46526316\n",
      "Probabilistic KnockoffNets : 0.35063156\n",
      "Argmax KnockoffNets : 0.42978948\n",
      "Train on 1000 samples\n",
      "Epoch 1/5\n",
      "1000/1000 [==============================] - 0s 100us/sample - loss: 2.2611 - accuracy: 0.2000\n",
      "Epoch 2/5\n",
      "1000/1000 [==============================] - 0s 36us/sample - loss: 2.1883 - accuracy: 0.3490\n",
      "Epoch 3/5\n",
      "1000/1000 [==============================] - 0s 37us/sample - loss: 2.0755 - accuracy: 0.5230\n",
      "Epoch 4/5\n",
      "1000/1000 [==============================] - 0s 40us/sample - loss: 1.8754 - accuracy: 0.6230\n",
      "Epoch 5/5\n",
      "1000/1000 [==============================] - 0s 76us/sample - loss: 1.5368 - accuracy: 0.7290\n",
      "Probabilistic CopycatCNN : 0.73844445\n",
      "Train on 1000 samples\n",
      "Epoch 1/5\n",
      "1000/1000 [==============================] - 0s 81us/sample - loss: 2.2760 - accuracy: 0.1680\n",
      "Epoch 2/5\n",
      "1000/1000 [==============================] - 0s 39us/sample - loss: 2.2038 - accuracy: 0.4170\n",
      "Epoch 3/5\n",
      "1000/1000 [==============================] - 0s 67us/sample - loss: 2.0939 - accuracy: 0.5590\n",
      "Epoch 4/5\n",
      "1000/1000 [==============================] - 0s 79us/sample - loss: 1.8918 - accuracy: 0.6870\n",
      "Epoch 5/5\n",
      "1000/1000 [==============================] - 0s 80us/sample - loss: 1.5320 - accuracy: 0.7360\n",
      "Argmax CopycatCNN : 0.7308889\n",
      "Probabilistic KnockoffNets : 0.73844445\n",
      "Argmax KnockoffNets : 0.7163333\n",
      "Train on 2000 samples\n",
      "Epoch 1/5\n",
      "2000/2000 [==============================] - 0s 70us/sample - loss: 2.2584 - accuracy: 0.3135\n",
      "Epoch 2/5\n",
      "2000/2000 [==============================] - 0s 37us/sample - loss: 2.1252 - accuracy: 0.5300\n",
      "Epoch 3/5\n",
      "2000/2000 [==============================] - 0s 37us/sample - loss: 1.7001 - accuracy: 0.6300\n",
      "Epoch 4/5\n",
      "2000/2000 [==============================] - 0s 35us/sample - loss: 0.9184 - accuracy: 0.8135\n",
      "Epoch 5/5\n",
      "2000/2000 [==============================] - 0s 37us/sample - loss: 0.5375 - accuracy: 0.8785\n",
      "Probabilistic CopycatCNN : 0.824125\n",
      "Train on 2000 samples\n",
      "Epoch 1/5\n",
      "2000/2000 [==============================] - 0s 58us/sample - loss: 2.2764 - accuracy: 0.2145\n",
      "Epoch 2/5\n",
      "2000/2000 [==============================] - 0s 39us/sample - loss: 2.1873 - accuracy: 0.4390\n",
      "Epoch 3/5\n",
      "2000/2000 [==============================] - 0s 42us/sample - loss: 1.9317 - accuracy: 0.6155\n",
      "Epoch 4/5\n",
      "2000/2000 [==============================] - 0s 45us/sample - loss: 1.2220 - accuracy: 0.7845\n",
      "Epoch 5/5\n",
      "2000/2000 [==============================] - 0s 49us/sample - loss: 0.6233 - accuracy: 0.8425\n",
      "Argmax CopycatCNN : 0.806125\n",
      "Probabilistic KnockoffNets : 0.84575\n",
      "Argmax KnockoffNets : 0.824375\n",
      "Train on 4000 samples\n",
      "Epoch 1/5\n",
      "4000/4000 [==============================] - 0s 55us/sample - loss: 2.1961 - accuracy: 0.3595\n",
      "Epoch 2/5\n",
      "4000/4000 [==============================] - 0s 43us/sample - loss: 1.3062 - accuracy: 0.7325\n",
      "Epoch 3/5\n",
      "4000/4000 [==============================] - 0s 50us/sample - loss: 0.5145 - accuracy: 0.8740\n",
      "Epoch 4/5\n",
      "4000/4000 [==============================] - 0s 118us/sample - loss: 0.3919 - accuracy: 0.8953\n",
      "Epoch 5/5\n",
      "4000/4000 [==============================] - 0s 45us/sample - loss: 0.3291 - accuracy: 0.9195\n",
      "Probabilistic CopycatCNN : 0.8771667\n",
      "Train on 4000 samples\n",
      "Epoch 1/5\n",
      "4000/4000 [==============================] - 0s 58us/sample - loss: 2.1563 - accuracy: 0.3575\n",
      "Epoch 2/5\n",
      "4000/4000 [==============================] - 0s 63us/sample - loss: 1.1604 - accuracy: 0.7590\n",
      "Epoch 3/5\n",
      "4000/4000 [==============================] - 0s 66us/sample - loss: 0.4426 - accuracy: 0.8698\n",
      "Epoch 4/5\n",
      "4000/4000 [==============================] - 0s 69us/sample - loss: 0.3313 - accuracy: 0.8957\n",
      "Epoch 5/5\n",
      "4000/4000 [==============================] - 0s 89us/sample - loss: 0.2817 - accuracy: 0.9080\n",
      "Argmax CopycatCNN : 0.894\n",
      "Probabilistic KnockoffNets : 0.89383334\n",
      "Argmax KnockoffNets : 0.8946667\n",
      "Train on 5000 samples\n",
      "Epoch 1/5\n",
      "5000/5000 [==============================] - 0s 50us/sample - loss: 2.2155 - accuracy: 0.3166\n",
      "Epoch 2/5\n",
      "5000/5000 [==============================] - 0s 35us/sample - loss: 1.2390 - accuracy: 0.7558\n",
      "Epoch 3/5\n",
      "5000/5000 [==============================] - 0s 68us/sample - loss: 0.4771 - accuracy: 0.8648\n",
      "Epoch 4/5\n",
      "5000/5000 [==============================] - 0s 48us/sample - loss: 0.3789 - accuracy: 0.8922\n",
      "Epoch 5/5\n",
      "5000/5000 [==============================] - 0s 82us/sample - loss: 0.3269 - accuracy: 0.9132\n",
      "Probabilistic CopycatCNN : 0.9\n",
      "Train on 5000 samples\n",
      "Epoch 1/5\n",
      "5000/5000 [==============================] - 0s 50us/sample - loss: 1.8898 - accuracy: 0.5874\n",
      "Epoch 2/5\n",
      "5000/5000 [==============================] - 0s 37us/sample - loss: 0.6142 - accuracy: 0.8388\n",
      "Epoch 3/5\n",
      "5000/5000 [==============================] - 0s 54us/sample - loss: 0.3737 - accuracy: 0.8826\n",
      "Epoch 4/5\n",
      "5000/5000 [==============================] - 0s 56us/sample - loss: 0.2987 - accuracy: 0.8988\n",
      "Epoch 5/5\n",
      "5000/5000 [==============================] - 0s 36us/sample - loss: 0.2691 - accuracy: 0.9122\n",
      "Argmax CopycatCNN : 0.7666\n",
      "Probabilistic KnockoffNets : 0.7778\n",
      "Argmax KnockoffNets : 0.9146\n"
     ]
    }
   ],
   "source": [
    "from art.attacks import ExtractionAttack\n",
    "from art.attacks.extraction import CopycatCNN, KnockoffNets\n",
    "\n",
    "attack_catalogue = {\"Probabilistic CopycatCNN\": CopycatCNN(classifier=classifier_original,\n",
    "                                              batch_size_fit=64,\n",
    "                                              batch_size_query=64,\n",
    "                                              nb_epochs=num_epochs,\n",
    "                                              nb_stolen=len_steal,\n",
    "                                              use_probability=True),\n",
    "                    \"Argmax CopycatCNN\": CopycatCNN(classifier=classifier_original,\n",
    "                                              batch_size_fit=64,\n",
    "                                              batch_size_query=64,\n",
    "                                              nb_epochs=num_epochs,\n",
    "                                              nb_stolen=len_steal,\n",
    "                                              use_probability=False),\n",
    "                    \"Probabilistic KnockoffNets\": KnockoffNets(classifier=classifier_original,\n",
    "                                              batch_size_fit=64,\n",
    "                                              batch_size_query=64,\n",
    "                                              nb_epochs=num_epochs,\n",
    "                                              nb_stolen=len_steal,\n",
    "                                              use_probability=True),\n",
    "                    \"Argmax KnockoffNets\": KnockoffNets(classifier=classifier_original,\n",
    "                                              batch_size_fit=64,\n",
    "                                              batch_size_query=64,\n",
    "                                              nb_epochs=num_epochs,\n",
    "                                              nb_stolen=len_steal,\n",
    "                                              use_probability=False),\n",
    "                   }\n",
    "\n",
    "results = []\n",
    "for len_steal in [250, 500, 1000, 2000, 4000, 5000]:\n",
    "    indices = np.random.permutation(len(x_test0))\n",
    "    x_steal = x_test0[indices[:len_steal]]\n",
    "    y_steal = y_test0[indices[:len_steal]]\n",
    "    x_test = x_test0[indices[len_steal:]]\n",
    "    y_test = y_test0[indices[len_steal:]]\n",
    "\n",
    "    for name, attack in attack_catalogue.items():\n",
    "        model_stolen = get_model(num_classes=10, c1=32, c2=64, d1=128)\n",
    "        classifier_stolen = KerasClassifier(model_stolen, clip_values=(0, 1), use_logits=False)\n",
    "        classifier_stolen = attack.extract(x_steal, y_steal, thieved_classifier=classifier_stolen)\n",
    "        acc = classifier_stolen._model.evaluate(x_test, y_test)[1]\n",
    "        print(name, \":\", acc)\n",
    "        results.append((name, len_steal, acc))"
   ]
  },
  {
   "cell_type": "markdown",
   "id": "9ac38df2-560c-4f45-8a6e-abc5dc8724b9",
   "metadata": {},
   "source": [
    "#### Result of model extraction with CopycatCNN and KnockoffNets"
   ]
  },
  {
   "cell_type": "code",
   "execution_count": 10,
   "id": "8634467e-77ce-4846-9ab0-bd8170ffc7a1",
   "metadata": {},
   "outputs": [
    {
     "data": {
      "image/png": "[encoded data removed]",
      "text/plain": [
       "<Figure size 576x432 with 1 Axes>"
      ]
     },
     "metadata": {
      "needs_background": "light"
     },
     "output_type": "display_data"
    }
   ],
   "source": [
    "import pandas as pd\n",
    "df = pd.DataFrame(results, columns=('Method Name', 'Stealing Dataset Size', 'Accuracy'))\n",
    "fig, ax = plt.subplots(figsize=(8,6))\n",
    "ax.set_xlabel(\"Stealing Dataset Size\")\n",
    "ax.set_ylabel(\"Stolen Model Accuracy\")\n",
    "for name, group in df.groupby(\"Method Name\"):\n",
    "    group.plot(1, 2, ax=ax, label=name)\n",
    "plt.show()"
   ]
  },
  {
   "cell_type": "markdown",
   "id": "ca036955-1ee4-4218-9b7e-736ae22d5a63",
   "metadata": {},
   "source": [
    "### Create protected classifier with reverse sigmoid"
   ]
  },
  {
   "cell_type": "code",
   "execution_count": 12,
   "id": "ebe7ab2f-1f3c-430f-8915-8e1306a67ba0",
   "metadata": {},
   "outputs": [],
   "source": [
    "from art.defences.postprocessor import ReverseSigmoid\n",
    "\n",
    "postprocessor = ReverseSigmoid(beta=1.0, gamma=0.2)\n",
    "classifier_protected = KerasClassifier(model, clip_values=(0, 1), use_logits=False, postprocessing_defences=postprocessor)\n",
    "\n",
    "# Below is used by `FunctionallyEquivalentExtraction`.\n",
    "model_flat = Sequential([InputLayer([784]), Reshape([28, 28, 1]), model])\n",
    "model_flat.compile('sgd', 'categorical_crossentropy', ['accuracy'])\n",
    "classifier_flat_protected = KerasClassifier(model_flat, clip_values=(0, 1), use_logits=False, postprocessing_defences=postprocessor)"
   ]
  },
  {
   "cell_type": "markdown",
   "id": "aea93256-0eac-4204-a9e4-0cac103404ad",
   "metadata": {},
   "source": [
    "#### Apply the protected classifier to CopycatCNN and KnockoffNets"
   ]
  },
  {
   "cell_type": "code",
   "execution_count": 13,
   "id": "c78b161f-9ab3-4c79-b6b6-e151d330c421",
   "metadata": {
    "collapsed": true,
    "jupyter": {
     "outputs_hidden": true
    },
    "tags": []
   },
   "outputs": [
    {
     "name": "stderr",
     "output_type": "stream",
     "text": [
      "/archive/library/anaconda3/envs/tta/lib/python3.7/site-packages/art/defences/postprocessor/reverse_sigmoid.py:75: RuntimeWarning: divide by zero encountered in log\n",
      "  perturbation_r = self.beta * (sigmoid(-self.gamma * np.log((1.0 - preds_clipped) / preds_clipped)) - 0.5)\n"
     ]
    },
    {
     "name": "stdout",
     "output_type": "stream",
     "text": [
      "Train on 250 samples\n",
      "Epoch 1/5\n",
      "250/250 [==============================] - 0s 270us/sample - loss: 2.3051 - accuracy: 0.0960\n",
      "Epoch 2/5\n",
      "250/250 [==============================] - 0s 46us/sample - loss: 2.3048 - accuracy: 0.0920\n",
      "Epoch 3/5\n",
      "250/250 [==============================] - 0s 43us/sample - loss: 2.3045 - accuracy: 0.0920\n",
      "Epoch 4/5\n",
      "250/250 [==============================] - 0s 43us/sample - loss: 2.3042 - accuracy: 0.0920\n",
      "Epoch 5/5\n",
      "250/250 [==============================] - 0s 41us/sample - loss: 2.3040 - accuracy: 0.0880\n"
     ]
    },
    {
     "name": "stderr",
     "output_type": "stream",
     "text": [
      "/archive/library/anaconda3/envs/tta/lib/python3.7/site-packages/keras/engine/training.py:2470: UserWarning: `Model.state_updates` will be removed in a future version. This property should not be used in TensorFlow 2.0, as `updates` are applied automatically.\n",
      "  warnings.warn('`Model.state_updates` will be removed in a future version. '\n"
     ]
    },
    {
     "name": "stdout",
     "output_type": "stream",
     "text": [
      "Probabilistic CopycatCNN (vs. Protected) : 0.101538464\n",
      "Train on 250 samples\n",
      "Epoch 1/5\n",
      "250/250 [==============================] - 0s 276us/sample - loss: 2.2958 - accuracy: 0.1400\n",
      "Epoch 2/5\n",
      "250/250 [==============================] - 0s 43us/sample - loss: 2.2725 - accuracy: 0.1920\n",
      "Epoch 3/5\n",
      "250/250 [==============================] - 0s 43us/sample - loss: 2.2465 - accuracy: 0.2600\n",
      "Epoch 4/5\n",
      "250/250 [==============================] - 0s 41us/sample - loss: 2.2221 - accuracy: 0.3440\n",
      "Epoch 5/5\n",
      "250/250 [==============================] - 0s 41us/sample - loss: 2.1948 - accuracy: 0.3760\n",
      "Argmax CopycatCNN (vs. Protected) : 0.38820514\n",
      "Probabilistic KnockoffNets (vs. Protected) : 0.12030769\n",
      "Argmax KnockoffNets (vs. Protected) : 0.19876923\n",
      "Train on 500 samples\n",
      "Epoch 1/5\n",
      "500/500 [==============================] - 0s 169us/sample - loss: 2.3039 - accuracy: 0.0740\n",
      "Epoch 2/5\n",
      "500/500 [==============================] - 0s 42us/sample - loss: 2.3034 - accuracy: 0.0900\n",
      "Epoch 3/5\n",
      "500/500 [==============================] - 0s 42us/sample - loss: 2.3030 - accuracy: 0.1100\n",
      "Epoch 4/5\n",
      "500/500 [==============================] - 0s 42us/sample - loss: 2.3027 - accuracy: 0.1180\n",
      "Epoch 5/5\n",
      "500/500 [==============================] - 0s 41us/sample - loss: 2.3024 - accuracy: 0.1300\n",
      "Probabilistic CopycatCNN (vs. Protected) : 0.12010527\n",
      "Train on 500 samples\n",
      "Epoch 1/5\n",
      "500/500 [==============================] - 0s 173us/sample - loss: 2.2902 - accuracy: 0.1680\n",
      "Epoch 2/5\n",
      "500/500 [==============================] - 0s 42us/sample - loss: 2.2684 - accuracy: 0.2360\n",
      "Epoch 3/5\n",
      "500/500 [==============================] - 0s 42us/sample - loss: 2.2450 - accuracy: 0.3000\n",
      "Epoch 4/5\n",
      "500/500 [==============================] - 0s 42us/sample - loss: 2.2179 - accuracy: 0.3300\n",
      "Epoch 5/5\n",
      "500/500 [==============================] - 0s 52us/sample - loss: 2.1840 - accuracy: 0.4000\n",
      "Argmax CopycatCNN (vs. Protected) : 0.3733684\n",
      "Probabilistic KnockoffNets (vs. Protected) : 0.13410527\n",
      "Argmax KnockoffNets (vs. Protected) : 0.4423158\n",
      "Train on 1000 samples\n",
      "Epoch 1/5\n",
      "1000/1000 [==============================] - 0s 110us/sample - loss: 2.3043 - accuracy: 0.0930\n",
      "Epoch 2/5\n",
      "1000/1000 [==============================] - 0s 40us/sample - loss: 2.3037 - accuracy: 0.0910\n",
      "Epoch 3/5\n",
      "1000/1000 [==============================] - 0s 46us/sample - loss: 2.3033 - accuracy: 0.0860\n",
      "Epoch 4/5\n",
      "1000/1000 [==============================] - 0s 57us/sample - loss: 2.3030 - accuracy: 0.0860\n",
      "Epoch 5/5\n",
      "1000/1000 [==============================] - 0s 58us/sample - loss: 2.3027 - accuracy: 0.0880\n",
      "Probabilistic CopycatCNN (vs. Protected) : 0.09633333\n",
      "Train on 1000 samples\n",
      "Epoch 1/5\n",
      "1000/1000 [==============================] - 0s 114us/sample - loss: 2.2948 - accuracy: 0.1610\n",
      "Epoch 2/5\n",
      "1000/1000 [==============================] - 0s 42us/sample - loss: 2.2577 - accuracy: 0.2670\n",
      "Epoch 3/5\n",
      "1000/1000 [==============================] - 0s 84us/sample - loss: 2.2109 - accuracy: 0.3630\n",
      "Epoch 4/5\n",
      "1000/1000 [==============================] - 0s 99us/sample - loss: 2.1362 - accuracy: 0.4530\n",
      "Epoch 5/5\n",
      "1000/1000 [==============================] - 0s 65us/sample - loss: 1.9965 - accuracy: 0.6250\n",
      "Argmax CopycatCNN (vs. Protected) : 0.6487778\n",
      "Probabilistic KnockoffNets (vs. Protected) : 0.12622222\n",
      "Argmax KnockoffNets (vs. Protected) : 0.6152222\n",
      "Train on 2000 samples\n",
      "Epoch 1/5\n",
      "2000/2000 [==============================] - 0s 79us/sample - loss: 2.3036 - accuracy: 0.1005\n",
      "Epoch 2/5\n",
      "2000/2000 [==============================] - 0s 60us/sample - loss: 2.3026 - accuracy: 0.1290\n",
      "Epoch 3/5\n",
      "2000/2000 [==============================] - 0s 61us/sample - loss: 2.3021 - accuracy: 0.1590\n",
      "Epoch 4/5\n",
      "2000/2000 [==============================] - 0s 48us/sample - loss: 2.3017 - accuracy: 0.1785\n",
      "Epoch 5/5\n",
      "2000/2000 [==============================] - 0s 49us/sample - loss: 2.3014 - accuracy: 0.1970\n",
      "Probabilistic CopycatCNN (vs. Protected) : 0.200125\n",
      "Train on 2000 samples\n",
      "Epoch 1/5\n",
      "2000/2000 [==============================] - 0s 80us/sample - loss: 2.2825 - accuracy: 0.1535\n",
      "Epoch 2/5\n",
      "2000/2000 [==============================] - 0s 47us/sample - loss: 2.2178 - accuracy: 0.3500\n",
      "Epoch 3/5\n",
      "2000/2000 [==============================] - 0s 72us/sample - loss: 2.0641 - accuracy: 0.5025\n",
      "Epoch 4/5\n",
      "2000/2000 [==============================] - 0s 109us/sample - loss: 1.5936 - accuracy: 0.6770\n",
      "Epoch 5/5\n",
      "2000/2000 [==============================] - 0s 58us/sample - loss: 0.8944 - accuracy: 0.7885\n",
      "Argmax CopycatCNN (vs. Protected) : 0.822875\n",
      "Probabilistic KnockoffNets (vs. Protected) : 0.22475\n",
      "Argmax KnockoffNets (vs. Protected) : 0.8145\n",
      "Train on 4000 samples\n",
      "Epoch 1/5\n",
      "4000/4000 [==============================] - 0s 64us/sample - loss: 2.3024 - accuracy: 0.1860\n",
      "Epoch 2/5\n",
      "4000/4000 [==============================] - 0s 51us/sample - loss: 2.3014 - accuracy: 0.2610\n",
      "Epoch 3/5\n",
      "4000/4000 [==============================] - 0s 54us/sample - loss: 2.3008 - accuracy: 0.2977\n",
      "Epoch 4/5\n",
      "4000/4000 [==============================] - 0s 60us/sample - loss: 2.3003 - accuracy: 0.3270\n",
      "Epoch 5/5\n",
      "4000/4000 [==============================] - 0s 60us/sample - loss: 2.2998 - accuracy: 0.3422\n",
      "Probabilistic CopycatCNN (vs. Protected) : 0.35\n",
      "Train on 4000 samples\n",
      "Epoch 1/5\n",
      "4000/4000 [==============================] - 0s 71us/sample - loss: 2.2019 - accuracy: 0.4125\n",
      "Epoch 2/5\n",
      "4000/4000 [==============================] - 0s 98us/sample - loss: 1.3685 - accuracy: 0.7510\n",
      "Epoch 3/5\n",
      "4000/4000 [==============================] - 0s 51us/sample - loss: 0.5226 - accuracy: 0.8583\n",
      "Epoch 4/5\n",
      "4000/4000 [==============================] - 0s 48us/sample - loss: 0.3696 - accuracy: 0.8915\n",
      "Epoch 5/5\n",
      "4000/4000 [==============================] - 0s 47us/sample - loss: 0.3074 - accuracy: 0.9090\n",
      "Argmax CopycatCNN (vs. Protected) : 0.88516665\n",
      "Probabilistic KnockoffNets (vs. Protected) : 0.25933334\n",
      "Argmax KnockoffNets (vs. Protected) : 0.8965\n",
      "Train on 5000 samples\n",
      "Epoch 1/5\n",
      "5000/5000 [==============================] - 0s 58us/sample - loss: 2.3034 - accuracy: 0.1110\n",
      "Epoch 2/5\n",
      "5000/5000 [==============================] - 0s 53us/sample - loss: 2.3020 - accuracy: 0.1860\n",
      "Epoch 3/5\n",
      "5000/5000 [==============================] - 0s 99us/sample - loss: 2.3013 - accuracy: 0.2354\n",
      "Epoch 4/5\n",
      "5000/5000 [==============================] - 0s 56us/sample - loss: 2.3007 - accuracy: 0.2510\n",
      "Epoch 5/5\n",
      "5000/5000 [==============================] - 0s 39us/sample - loss: 2.3002 - accuracy: 0.2622\n",
      "Probabilistic CopycatCNN (vs. Protected) : 0.2698\n",
      "Train on 5000 samples\n",
      "Epoch 1/5\n",
      "5000/5000 [==============================] - 0s 57us/sample - loss: 2.1280 - accuracy: 0.4608\n",
      "Epoch 2/5\n",
      "5000/5000 [==============================] - 0s 38us/sample - loss: 0.9206 - accuracy: 0.7858\n",
      "Epoch 3/5\n",
      "5000/5000 [==============================] - 0s 37us/sample - loss: 0.4053 - accuracy: 0.8816\n",
      "Epoch 4/5\n",
      "5000/5000 [==============================] - 0s 60us/sample - loss: 0.3175 - accuracy: 0.9038\n",
      "Epoch 5/5\n",
      "5000/5000 [==============================] - 0s 74us/sample - loss: 0.2690 - accuracy: 0.9202\n",
      "Argmax CopycatCNN (vs. Protected) : 0.8754\n",
      "Probabilistic KnockoffNets (vs. Protected) : 0.2818\n",
      "Argmax KnockoffNets (vs. Protected) : 0.6594\n"
     ]
    }
   ],
   "source": [
    "# Stealing from the protected classifier.\n",
    "\n",
    "attack_catalogue = {\n",
    "                    \"Probabilistic CopycatCNN (vs. Protected)\": CopycatCNN(classifier=classifier_protected,\n",
    "                                              batch_size_fit=64,\n",
    "                                              batch_size_query=64,\n",
    "                                              nb_epochs=num_epochs,\n",
    "                                              nb_stolen=len_steal,\n",
    "                                              use_probability=True),\n",
    "                    \"Argmax CopycatCNN (vs. Protected)\": CopycatCNN(classifier=classifier_protected,\n",
    "                                              batch_size_fit=64,\n",
    "                                              batch_size_query=64,\n",
    "                                              nb_epochs=num_epochs,\n",
    "                                              nb_stolen=len_steal,\n",
    "                                              use_probability=False),\n",
    "                    \"Probabilistic KnockoffNets (vs. Protected)\": KnockoffNets(classifier=classifier_protected,\n",
    "                                              batch_size_fit=64,\n",
    "                                              batch_size_query=64,\n",
    "                                              nb_epochs=num_epochs,\n",
    "                                              nb_stolen=len_steal,\n",
    "                                              use_probability=True),\n",
    "                    \"Argmax KnockoffNets (vs. Protected)\": KnockoffNets(classifier=classifier_protected,\n",
    "                                              batch_size_fit=64,\n",
    "                                              batch_size_query=64,\n",
    "                                              nb_epochs=num_epochs,\n",
    "                                              nb_stolen=len_steal,\n",
    "                                              use_probability=False),\n",
    "#                     \"FunctionallyEquivalentExtraction\": FunctionallyEquivalentExtraction(classifier=classifier_flat_protected,\n",
    "#                                               num_neurons=128),  # This one takes too long time for this dataset/model.\n",
    "                    }\n",
    "\n",
    "results_protected = []\n",
    "for len_steal in [250, 500, 1000, 2000, 4000, 5000]:\n",
    "    indices = np.random.permutation(len(x_test0))\n",
    "    x_steal = x_test0[indices[:len_steal]]\n",
    "    y_steal = y_test0[indices[:len_steal]]\n",
    "    x_test = x_test0[indices[len_steal:]]\n",
    "    y_test = y_test0[indices[len_steal:]]\n",
    "\n",
    "    for name, attack in attack_catalogue.items():\n",
    "        model_stolen = get_model(num_classes=10, c1=32, c2=64, d1=128)\n",
    "        classifier_stolen = KerasClassifier(model_stolen, clip_values=(0, 1), use_logits=False)\n",
    "        if name==\"FunctionallyEquivalentExtraction\":\n",
    "            classifier_stolen = attack.extract(np.reshape(x_steal, [len(x_steal), -1]), y_steal, thieved_classifier=classifier_stolen)\n",
    "        else:\n",
    "            classifier_stolen = attack.extract(x_steal, y_steal, thieved_classifier=classifier_stolen)\n",
    "        \n",
    "        acc = classifier_stolen._model.evaluate(x_test, y_test)[1]\n",
    "        print(name, \":\", acc)\n",
    "        results_protected.append((name, len_steal, acc))\n"
   ]
  },
  {
   "cell_type": "markdown",
   "id": "28ad6a59-0d4e-4e05-b579-fd3e5dacd4f3",
   "metadata": {},
   "source": [
    "Contrary to the previous results, the following results show that the accuracy of stolen models are below. This mean reverse sigmoid protected the original model from extraction attacks."
   ]
  },
  {
   "cell_type": "code",
   "execution_count": 18,
   "id": "2a24f657-124a-4962-85b8-0ab97506e223",
   "metadata": {
    "tags": []
   },
   "outputs": [],
   "source": [
    "import pandas as pd\n",
    "df_protected = pd.DataFrame(results_protected, columns=('Method Name', 'Stealing Dataset Size', 'Accuracy'))\n",
    "\n",
    "\n",
    "# fig, ax = plt.subplots(figsize=(8,6))\n",
    "# ax.set_xlabel(\"Stealing Dataset Size\")\n",
    "# ax.set_ylabel(\"Stolen Model Accuracy\")\n",
    "# for name, group in df_protected.groupby(\"Method Name\"):\n",
    "#     group.plot(1, 2, ax=ax, label=name)\n",
    "# plt.show()"
   ]
  },
  {
   "cell_type": "code",
   "execution_count": 19,
   "id": "57777387-a478-4e31-a7db-c219878c4e93",
   "metadata": {},
   "outputs": [],
   "source": [
    "df_combined = pd.concat([df, df_protected])\n",
    "groupby = df_combined.groupby(\"Method Name\")"
   ]
  },
  {
   "cell_type": "code",
   "execution_count": 20,
   "id": "08c43316-1815-48e7-9d74-20e6355bcc73",
   "metadata": {},
   "outputs": [
    {
     "data": {
      "image/png": "[encoded data removed]",
      "text/plain": [
       "<Figure size 576x432 with 1 Axes>"
      ]
     },
     "metadata": {
      "needs_background": "light"
     },
     "output_type": "display_data"
    },
    {
     "data": {
      "image/png": "[encoded data removed]",
      "text/plain": [
       "<Figure size 576x432 with 1 Axes>"
      ]
     },
     "metadata": {
      "needs_background": "light"
     },
     "output_type": "display_data"
    }
   ],
   "source": [
    "names = [\"CopycatCNN\", \"KnockoffNets\"]\n",
    "for name in names:\n",
    "    fig, ax = plt.subplots(figsize=(8,6))\n",
    "    groupby.get_group(\"Probabilistic \" + name).plot(1,2,ax=ax, label=\"Probabilistic \" + name)\n",
    "    groupby.get_group(\"Probabilistic \" + name + \" (vs. Protected)\").plot(1,2,ax=ax, label=\"Probabilistic \" + name + \" (vs. Protected)\")\n",
    "    ax.set_xlabel(\"Stealing Dataset Size\")\n",
    "    ax.set_ylabel(\"Stolen Model Accuracy\")\n",
    "    fig.show()"
   ]
  },
  {
   "cell_type": "code",
   "execution_count": null,
   "id": "d838436a-e067-415c-a106-add2f0f35ec1",
   "metadata": {},
   "outputs": [],
   "source": []
  }
 ],
 "metadata": {
  "kernelspec": {
   "display_name": "Python 3 (ipykernel)",
   "language": "python",
   "name": "python3"
  },
  "language_info": {
   "codemirror_mode": {
    "name": "ipython",
    "version": 3
   },
   "file_extension": ".py",
   "mimetype": "text/x-python",
   "name": "python",
   "nbconvert_exporter": "python",
   "pygments_lexer": "ipython3",
   "version": "3.7.11"
  }
 },
 "nbformat": 4,
 "nbformat_minor": 5
}
