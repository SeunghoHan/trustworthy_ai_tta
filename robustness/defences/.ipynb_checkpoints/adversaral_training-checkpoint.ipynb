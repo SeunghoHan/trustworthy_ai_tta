{
 "cells": [
  {
   "cell_type": "markdown",
   "id": "8a71ed48-fbf2-4900-861d-b870b101d920",
   "metadata": {},
   "source": [
    "---\n",
    "\n",
    "# Adversarial Training \n",
    "\n",
    "### API Reference:\n",
    "- https://adversarial-robustness-toolbox.readthedocs.io/en/latest/modules/defences/trainer.html#adversarial-training\n",
    "\n",
    "### Related paper:\n",
    "- https://arxiv.org/abs/1705.07204\n",
    "\n",
    "### Description\n",
    "To demonstrate adversarial training using ART, in this example we use the attacks such as fast gradient method and basic iterative method on the MNIST dataset. To defend the attacks, we train a robust classifier using an ensemble adversarial training and compare it with baseline model. \n",
    "\n",
    "---"
   ]
  },
  {
   "cell_type": "code",
   "execution_count": 1,
   "id": "05091c49-42c7-45e7-b75f-5667bbdf7289",
   "metadata": {},
   "outputs": [],
   "source": [
    "import tensorflow as tf\n",
    "tf.compat.v1.disable_eager_execution() # To use the ART\n",
    "tf.get_logger().setLevel('ERROR')\n",
    "\n",
    "import tensorflow.keras as tk\n",
    "import tensorflow.keras.layers as tkl\n",
    "from tensorflow.keras import datasets, layers, models, Sequential\n",
    "\n",
    "import matplotlib.pyplot as plt\n",
    "import numpy as np\n",
    "import os\n",
    "\n",
    "import warnings\n",
    "warnings.filterwarnings('ignore')\n",
    "\n",
    "from art.utils import load_dataset\n",
    "from art.estimators.classification import KerasClassifier\n",
    "\n",
    "\n",
    "mnist_model_path = '/archive/workspace/TTA/demo/models/baisc_cnn_mnist'"
   ]
  },
  {
   "cell_type": "markdown",
   "id": "08c2092a-cdad-4ae8-b4d0-739e601efa34",
   "metadata": {},
   "source": [
    "## Load MNIST dataset and trained model"
   ]
  },
  {
   "cell_type": "code",
   "execution_count": 2,
   "id": "d8b4414b-7915-468a-94ea-57b02f52e236",
   "metadata": {},
   "outputs": [],
   "source": [
    "(x_train, y_train), (x_test, y_test), min_, max_ = load_dataset('mnist')"
   ]
  },
  {
   "cell_type": "code",
   "execution_count": null,
   "id": "333fcebe-2e66-40b4-98b0-ac353716c2ff",
   "metadata": {},
   "outputs": [],
   "source": [
    "trained_model = models.load_model(mnist_model_path)\n",
    "trained_model.summary()"
   ]
  },
  {
   "cell_type": "code",
   "execution_count": 7,
   "id": "65a014e1-752e-4cc1-8ecd-4c41a27d97f9",
   "metadata": {},
   "outputs": [],
   "source": [
    "from art.estimators.classification import KerasClassifier\n",
    "\n",
    "classifier = KerasClassifier(clip_values=(min_, max_), model=trained_model, use_logits=False)"
   ]
  },
  {
   "cell_type": "code",
   "execution_count": 8,
   "id": "7260da28-6b7d-4e9a-b6b1-b13ca70307cc",
   "metadata": {},
   "outputs": [
    {
     "name": "stderr",
     "output_type": "stream",
     "text": [
      "2021-12-21 11:14:33.933551: I tensorflow/stream_executor/cuda/cuda_dnn.cc:369] Loaded cuDNN version 8101\n"
     ]
    },
    {
     "name": "stdout",
     "output_type": "stream",
     "text": [
      "Original test data (first 100 images):\n",
      "Correctly classified: 100\n",
      "Incorrectly classified: 0\n"
     ]
    }
   ],
   "source": [
    "x_test_pred = np.argmax(classifier.predict(x_test[:100]), axis=1)\n",
    "nb_correct_pred = np.sum(x_test_pred == np.argmax(y_test[:100], axis=1))\n",
    "\n",
    "print(\"Original test data (first 100 images):\")\n",
    "print(\"Correctly classified: {}\".format(nb_correct_pred))\n",
    "print(\"Incorrectly classified: {}\".format(100-nb_correct_pred))"
   ]
  },
  {
   "cell_type": "markdown",
   "id": "d2f5d421-aeba-495b-a6aa-f0e37e1088c3",
   "metadata": {},
   "source": [
    "## Generate adversarial samples using fast gradient method"
   ]
  },
  {
   "cell_type": "code",
   "execution_count": 9,
   "id": "1041a5a4-9f1c-41ed-a1d3-9ca1d91e84f1",
   "metadata": {},
   "outputs": [],
   "source": [
    "from art.attacks.evasion import FastGradientMethod\n",
    "\n",
    "attacker = FastGradientMethod(classifier, eps=0.5)\n",
    "x_test_adv = attacker.generate(x_test[:100])"
   ]
  },
  {
   "cell_type": "code",
   "execution_count": 10,
   "id": "d849c5df-cc27-4d9c-bcf3-0c4bccffa6ce",
   "metadata": {},
   "outputs": [
    {
     "name": "stdout",
     "output_type": "stream",
     "text": [
      "Adversarial test data (first 100 images):\n",
      "Correctly classified: 25\n",
      "Incorrectly classified: 75\n"
     ]
    }
   ],
   "source": [
    "x_test_adv_pred = np.argmax(classifier.predict(x_test_adv), axis=1)\n",
    "nb_correct_adv_pred = np.sum(x_test_adv_pred == np.argmax(y_test[:100], axis=1))\n",
    "\n",
    "print(\"Adversarial test data (first 100 images):\")\n",
    "print(\"Correctly classified: {}\".format(nb_correct_adv_pred))\n",
    "print(\"Incorrectly classified: {}\".format(100-nb_correct_adv_pred))"
   ]
  },
  {
   "cell_type": "markdown",
   "id": "4abb3611-4626-489a-ad59-46073eed18f5",
   "metadata": {},
   "source": [
    "For the adversarial samples, the performance of trained model decreased. "
   ]
  },
  {
   "cell_type": "markdown",
   "id": "1ed5acc7-d247-4f51-8c76-addfbac024d6",
   "metadata": {},
   "source": [
    "## Train a robust classifier "
   ]
  },
  {
   "cell_type": "code",
   "execution_count": 13,
   "id": "e6b41996-2682-47aa-b487-f4ced28b4c38",
   "metadata": {},
   "outputs": [
    {
     "data": {
      "text/plain": [
       "'\\ntrainer = AdversarialTrainer(robust_classifier, attacks, ratio=1.0)\\ntrainer.fit(x_train, y_train, nb_epochs=83, batch_size=50)\\n'"
      ]
     },
     "execution_count": 13,
     "metadata": {},
     "output_type": "execute_result"
    }
   ],
   "source": [
    "from art.attacks.evasion import BasicIterativeMethod\n",
    "from art.defences.trainer import AdversarialTrainer\n",
    "\n",
    "trained_model = models.load_model(mnist_model_path)\n",
    "\n",
    "robust_classifier = KerasClassifier(clip_values=(min_, max_), \n",
    "                                    model=trained_model, use_logits=False)\n",
    "\n",
    "attacks = BasicIterativeMethod(robust_classifier, eps=0.3, eps_step=0.01, max_iter=40)\n",
    "\n",
    "\"\"\"\n",
    "trainer = AdversarialTrainer(robust_classifier, attacks, ratio=1.0)\n",
    "trainer.fit(x_train, y_train, nb_epochs=83, batch_size=50)\n",
    "\"\"\""
   ]
  },
  {
   "cell_type": "code",
   "execution_count": 14,
   "id": "aceb3dcb-8c19-405e-8fd1-1bd8195b8a6b",
   "metadata": {},
   "outputs": [],
   "source": [
    "robust_mnist_model_path = '/archive/workspace/TTA/demo/models/cnn_mnist_robust.h5'\n",
    "\n",
    "robust_classifier_model = models.load_model(robust_mnist_model_path)\n",
    "robust_classifier = KerasClassifier(clip_values=(min_, max_), model=robust_classifier_model, use_logits=False)"
   ]
  },
  {
   "cell_type": "markdown",
   "id": "404d770b-3a91-446e-8d37-65f27ac9c39b",
   "metadata": {},
   "source": [
    "## Evaluate the robust classifier \n",
    "### For original dataset"
   ]
  },
  {
   "cell_type": "code",
   "execution_count": 16,
   "id": "074e0a90-30be-4a83-82e4-da1153a53322",
   "metadata": {},
   "outputs": [
    {
     "name": "stdout",
     "output_type": "stream",
     "text": [
      "Original test data (first 100 images):\n",
      "Correctly classified: 99\n",
      "Incorrectly classified: 1\n"
     ]
    }
   ],
   "source": [
    "x_test_robust_pred = np.argmax(robust_classifier.predict(x_test[:100]), axis=1)\n",
    "nb_correct_robust_pred = np.sum(x_test_robust_pred == np.argmax(y_test[:100], axis=1))\n",
    "\n",
    "print(\"Original test data (first 100 images):\")\n",
    "print(\"Correctly classified: {}\".format(nb_correct_robust_pred))\n",
    "print(\"Incorrectly classified: {}\".format(100-nb_correct_robust_pred))"
   ]
  },
  {
   "cell_type": "markdown",
   "id": "b40ca139-dd1f-4ed7-8cc4-de3a9ce4536e",
   "metadata": {},
   "source": [
    "### For adversarial examples\n",
    "\n",
    "**Correctly classified: 25 -> 79**"
   ]
  },
  {
   "cell_type": "code",
   "execution_count": 17,
   "id": "2a9b473f-3cb2-4ff4-b982-940a7f290c7e",
   "metadata": {},
   "outputs": [
    {
     "name": "stdout",
     "output_type": "stream",
     "text": [
      "Adversarial test data (first 100 images):\n",
      "Correctly classified: 79\n",
      "Incorrectly classified: 21\n"
     ]
    }
   ],
   "source": [
    "attacker_robust = FastGradientMethod(robust_classifier, eps=0.5)\n",
    "x_test_adv_robust = attacker_robust.generate(x_test[:100])\n",
    "\n",
    "x_test_adv_robust_pred = np.argmax(robust_classifier.predict(x_test_adv_robust), axis=1)\n",
    "nb_correct_adv_robust_pred = np.sum(x_test_adv_robust_pred == np.argmax(y_test[:100], axis=1))\n",
    "\n",
    "print(\"Adversarial test data (first 100 images):\")\n",
    "print(\"Correctly classified: {}\".format(nb_correct_adv_robust_pred))\n",
    "print(\"Incorrectly classified: {}\".format(100-nb_correct_adv_robust_pred))"
   ]
  },
  {
   "cell_type": "markdown",
   "id": "5d35f315-b746-421b-96f0-8c0b9308e062",
   "metadata": {},
   "source": [
    "## Compare performance of the original model and robust model according to attack strength"
   ]
  },
  {
   "cell_type": "code",
   "execution_count": 18,
   "id": "7ab47fa9-33c5-499a-88ad-dabcde6f33d6",
   "metadata": {},
   "outputs": [],
   "source": [
    "eps_range = [0.01, 0.02, 0.03, 0.04, 0.05, 0.1, 0.2, 0.3, 0.4, 0.5, 0.6, 0.7, 0.8, 0.9]\n",
    "nb_correct_original = []\n",
    "nb_correct_robust = []\n",
    "\n",
    "for eps in eps_range:\n",
    "    attacker.set_params(**{'eps': eps})\n",
    "    attacker_robust.set_params(**{'eps': eps})\n",
    "    x_test_adv = attacker.generate(x_test[:100])\n",
    "    x_test_adv_robust = attacker_robust.generate(x_test[:100])\n",
    "    \n",
    "    x_test_adv_pred = np.argmax(classifier.predict(x_test_adv), axis=1)\n",
    "    nb_correct_original += [np.sum(x_test_adv_pred == np.argmax(y_test[:100], axis=1))]\n",
    "    \n",
    "    x_test_adv_robust_pred = np.argmax(robust_classifier.predict(x_test_adv_robust), axis=1)\n",
    "    nb_correct_robust += [np.sum(x_test_adv_robust_pred == np.argmax(y_test[:100], axis=1))]\n",
    "\n",
    "eps_range = [0] + eps_range\n",
    "nb_correct_original = [nb_correct_pred] + nb_correct_original\n",
    "nb_correct_robust = [nb_correct_robust_pred] + nb_correct_robust"
   ]
  },
  {
   "cell_type": "code",
   "execution_count": 19,
   "id": "4b877304-68b3-4283-a0de-3d40c78affa3",
   "metadata": {},
   "outputs": [
    {
     "data": {
      "image/png": "[encoded data removed]",
      "text/plain": [
       "<Figure size 432x288 with 1 Axes>"
      ]
     },
     "metadata": {
      "needs_background": "light"
     },
     "output_type": "display_data"
    }
   ],
   "source": [
    "fig, ax = plt.subplots()\n",
    "ax.plot(np.array(eps_range), np.array(nb_correct_original), 'b--', label='Original classifier')\n",
    "ax.plot(np.array(eps_range), np.array(nb_correct_robust), 'r--', label='Robust classifier')\n",
    "\n",
    "legend = ax.legend(loc='upper center', shadow=True, fontsize='large')\n",
    "legend.get_frame().set_facecolor('#00FFCC')\n",
    "\n",
    "plt.xlabel('Attack strength (eps)')\n",
    "plt.ylabel('Correct predictions')\n",
    "plt.show()"
   ]
  },
  {
   "cell_type": "code",
   "execution_count": null,
   "id": "0b7d698d-7178-4e46-b06b-dbc1a732d78d",
   "metadata": {},
   "outputs": [],
   "source": []
  }
 ],
 "metadata": {
  "kernelspec": {
   "display_name": "Python 3 (ipykernel)",
   "language": "python",
   "name": "python3"
  },
  "language_info": {
   "codemirror_mode": {
    "name": "ipython",
    "version": 3
   },
   "file_extension": ".py",
   "mimetype": "text/x-python",
   "name": "python",
   "nbconvert_exporter": "python",
   "pygments_lexer": "ipython3",
   "version": "3.7.11"
  }
 },
 "nbformat": 4,
 "nbformat_minor": 5
}
