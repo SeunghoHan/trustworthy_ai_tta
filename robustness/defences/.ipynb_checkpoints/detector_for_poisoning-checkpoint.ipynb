{
 "cells": [
  {
   "cell_type": "markdown",
   "id": "1bcd6049-2a34-488d-8813-87d11bdac675",
   "metadata": {},
   "source": [
    "# Detector for Poisoning Attack\n",
    "\n",
    "---\n",
    "\n",
    "## Spectral Signatures \n",
    "\n",
    "### API Reference:\n",
    "- https://adversarial-robustness-toolbox.readthedocs.io/en/latest/modules/defences/detector_poisoning.html#spectral-signature-defense\n",
    "\n",
    "### Related paper:\n",
    "- https://proceedings.neurips.cc/paper/2018/file/280cf18baf4311c92aa5a042336587d3-Paper.pdf\n",
    "\n",
    "### Description\n",
    "This method is to detect backdoors inputs in training data. In this demo, we show how to use ART to add this defence to a classifier and filter out suspicious training data.\n",
    "\n",
    "---"
   ]
  },
  {
   "cell_type": "code",
   "execution_count": 3,
   "id": "227dc6d1-4979-4633-a4b1-df2a489311d0",
   "metadata": {},
   "outputs": [],
   "source": [
    "import tensorflow as tf\n",
    "tf.compat.v1.disable_eager_execution() # To use the ART\n",
    "tf.get_logger().setLevel('ERROR')\n",
    "\n",
    "import tensorflow.keras as tk\n",
    "import tensorflow.keras.layers as tkl\n",
    "from tensorflow.keras import datasets, layers, models, Sequential\n",
    "\n",
    "import matplotlib.pyplot as plt\n",
    "import numpy as np\n",
    "import os\n",
    "\n",
    "import warnings\n",
    "warnings.filterwarnings('ignore')\n",
    "\n",
    "from art.utils import load_dataset\n",
    "from art.estimators.classification import KerasClassifier\n",
    "\n",
    "\n",
    "mnist_model_path = '/archive/workspace/TTA/demo/models/baisc_cnn_mnist'"
   ]
  },
  {
   "cell_type": "markdown",
   "id": "6a720cac-d0fc-46d1-944b-6d23cfd5a402",
   "metadata": {},
   "source": [
    "### Load MNIST dataset"
   ]
  },
  {
   "cell_type": "code",
   "execution_count": 4,
   "id": "61facb8e-b5aa-4c27-a6d2-fadb76c21d81",
   "metadata": {},
   "outputs": [],
   "source": [
    "from art.utils import load_mnist, preprocess\n",
    "\n",
    "(x_raw, y_raw), (x_raw_test, y_raw_test), min_, max_ = load_mnist(raw=True)\n",
    "\n",
    "# Random Selection:\n",
    "n_train = np.shape(x_raw)[0]\n",
    "num_selection = 7500\n",
    "random_selection_indices = np.random.choice(n_train, num_selection)\n",
    "x_raw = x_raw[random_selection_indices]\n",
    "y_raw = y_raw[random_selection_indices]\n",
    "\n",
    "BACKDOOR_TYPE = \"pattern\" # one of ['pattern', 'pixel', 'image']\n",
    "\n",
    "max_val = np.max(x_raw)\n",
    "def add_modification(x):\n",
    "        if BACKDOOR_TYPE == 'pattern':\n",
    "            return add_pattern_bd(x, pixel_value=max_val)\n",
    "        elif BACKDOOR_TYPE == 'pixel':\n",
    "            return add_single_bd(x, pixel_value=max_val) \n",
    "        elif BACKDOOR_TYPE == 'image':\n",
    "            return insert_image(x, backdoor_path='../utils/data/backdoors/alert.png', size=(10,10))\n",
    "        else:\n",
    "            raise(\"Unknown backdoor type\")"
   ]
  },
  {
   "cell_type": "markdown",
   "id": "edbbfd83-6a51-4035-9c81-2613f09b59b2",
   "metadata": {},
   "source": [
    "### Generate Poisoning dataset"
   ]
  },
  {
   "cell_type": "code",
   "execution_count": 5,
   "id": "0d35e1ba-3ddb-4da5-a94b-1479a0f28072",
   "metadata": {},
   "outputs": [],
   "source": [
    "from art.attacks.poisoning import PoisoningAttackBackdoor\n",
    "from art.attacks.poisoning.perturbations import add_pattern_bd, add_single_bd, insert_image\n",
    "\n",
    "def poison_dataset(x_clean, y_clean, percent_poison, poison_func):\n",
    "    x_poison = np.copy(x_clean)\n",
    "    y_poison = np.copy(y_clean)\n",
    "    is_poison = np.zeros(np.shape(y_poison))\n",
    "    \n",
    "    sources = np.array([0]) # np.arange(10) # 0, 1, 2, 3, ...\n",
    "    targets = np.array([1]) #(np.arange(10) + 1) % 10 # 1, 2, 3, 4, ...\n",
    "    for i, (src, tgt) in enumerate(zip(sources, targets)):\n",
    "        n_points_in_tgt = np.size(np.where(y_clean == tgt))\n",
    "        num_poison = round((percent_poison * n_points_in_tgt) / (1 - percent_poison))\n",
    "        src_imgs = x_clean[y_clean == src]\n",
    "\n",
    "        n_points_in_src = np.shape(src_imgs)[0]\n",
    "        indices_to_be_poisoned = np.random.choice(n_points_in_src, num_poison)\n",
    "\n",
    "        imgs_to_be_poisoned = np.copy(src_imgs[indices_to_be_poisoned])\n",
    "        backdoor_attack = PoisoningAttackBackdoor(poison_func)\n",
    "        imgs_to_be_poisoned, poison_labels = backdoor_attack.poison(imgs_to_be_poisoned, y=np.ones(num_poison) * tgt)\n",
    "        x_poison = np.append(x_poison, imgs_to_be_poisoned, axis=0)\n",
    "        y_poison = np.append(y_poison, poison_labels, axis=0)\n",
    "        is_poison = np.append(is_poison, np.ones(num_poison))\n",
    "\n",
    "    is_poison = is_poison != 0\n",
    "\n",
    "    return is_poison, x_poison, y_poison"
   ]
  },
  {
   "cell_type": "code",
   "execution_count": 6,
   "id": "13be93cf-50a1-4066-a46c-5eb7f701ad76",
   "metadata": {},
   "outputs": [],
   "source": [
    "# Poison training data\n",
    "percent_poison = .33\n",
    "(is_poison_train, x_poisoned_raw, y_poisoned_raw) = poison_dataset(x_raw, y_raw, percent_poison, add_modification)\n",
    "x_train, y_train = preprocess(x_poisoned_raw, y_poisoned_raw)\n",
    "# Add channel axis:\n",
    "x_train = np.expand_dims(x_train, axis=3)\n",
    "\n",
    "# Poison test data\n",
    "(is_poison_test, x_poisoned_raw_test, y_poisoned_raw_test) = poison_dataset(x_raw_test, y_raw_test, percent_poison, add_modification)\n",
    "x_test, y_test = preprocess(x_poisoned_raw_test, y_poisoned_raw_test)\n",
    "# Add channel axis:\n",
    "x_test = np.expand_dims(x_test, axis=3)\n",
    "\n",
    "# Shuffle training data\n",
    "n_train = np.shape(y_train)[0]\n",
    "shuffled_indices = np.arange(n_train)\n",
    "np.random.shuffle(shuffled_indices)\n",
    "x_train = x_train[shuffled_indices]\n",
    "y_train = y_train[shuffled_indices]"
   ]
  },
  {
   "cell_type": "markdown",
   "id": "9bae4d91-097a-4d9f-ac0c-096ed518601f",
   "metadata": {},
   "source": [
    "### Train and evalute the model \n",
    "Build classification model"
   ]
  },
  {
   "cell_type": "code",
   "execution_count": 10,
   "id": "353f83da-0ed7-4e3c-8911-7117f810cd6f",
   "metadata": {},
   "outputs": [],
   "source": [
    "model = Sequential()\n",
    "model.add(tkl.Conv2D(32, kernel_size=(3, 3), activation='relu', input_shape=x_train.shape[1:]))\n",
    "model.add(tkl.Conv2D(64, (3, 3), activation='relu'))\n",
    "model.add(tkl.MaxPooling2D(pool_size=(2, 2)))\n",
    "model.add(tkl.Dropout(0.25))\n",
    "model.add(tkl.Flatten())\n",
    "model.add(tkl.Dense(128, activation='relu'))\n",
    "model.add(tkl.Dropout(0.5))\n",
    "model.add(tkl.Dense(10, activation='softmax'))\n",
    "\n",
    "model.compile(loss='categorical_crossentropy', optimizer='adam', metrics=['accuracy'])"
   ]
  },
  {
   "cell_type": "markdown",
   "id": "5bce74c0-b953-480a-ac02-72d612f099d9",
   "metadata": {},
   "source": [
    "Traing the model"
   ]
  },
  {
   "cell_type": "code",
   "execution_count": 8,
   "id": "69f12cab-7cae-4c8f-82c4-45e3965d6433",
   "metadata": {},
   "outputs": [
    {
     "name": "stdout",
     "output_type": "stream",
     "text": [
      "Train on 7918 samples\n"
     ]
    },
    {
     "name": "stderr",
     "output_type": "stream",
     "text": [
      "2021-12-21 12:24:10.844685: I tensorflow/core/platform/cpu_feature_guard.cc:142] This TensorFlow binary is optimized with oneAPI Deep Neural Network Library (oneDNN) to use the following CPU instructions in performance-critical operations:  AVX2 FMA\n",
      "To enable them in other operations, rebuild TensorFlow with the appropriate compiler flags.\n",
      "2021-12-21 12:24:11.015033: I tensorflow/stream_executor/cuda/cuda_gpu_executor.cc:937] successful NUMA node read from SysFS had negative value (-1), but there must be at least one NUMA node, so returning NUMA node zero\n",
      "2021-12-21 12:24:11.015727: I tensorflow/stream_executor/cuda/cuda_gpu_executor.cc:937] successful NUMA node read from SysFS had negative value (-1), but there must be at least one NUMA node, so returning NUMA node zero\n",
      "2021-12-21 12:24:11.016309: I tensorflow/stream_executor/cuda/cuda_gpu_executor.cc:937] successful NUMA node read from SysFS had negative value (-1), but there must be at least one NUMA node, so returning NUMA node zero\n",
      "2021-12-21 12:24:11.016958: I tensorflow/stream_executor/cuda/cuda_gpu_executor.cc:937] successful NUMA node read from SysFS had negative value (-1), but there must be at least one NUMA node, so returning NUMA node zero\n",
      "2021-12-21 12:24:11.017532: I tensorflow/stream_executor/cuda/cuda_gpu_executor.cc:937] successful NUMA node read from SysFS had negative value (-1), but there must be at least one NUMA node, so returning NUMA node zero\n",
      "2021-12-21 12:24:11.018223: I tensorflow/stream_executor/cuda/cuda_gpu_executor.cc:937] successful NUMA node read from SysFS had negative value (-1), but there must be at least one NUMA node, so returning NUMA node zero\n",
      "2021-12-21 12:24:11.524085: I tensorflow/stream_executor/cuda/cuda_gpu_executor.cc:937] successful NUMA node read from SysFS had negative value (-1), but there must be at least one NUMA node, so returning NUMA node zero\n",
      "2021-12-21 12:24:11.525254: I tensorflow/stream_executor/cuda/cuda_gpu_executor.cc:937] successful NUMA node read from SysFS had negative value (-1), but there must be at least one NUMA node, so returning NUMA node zero\n",
      "2021-12-21 12:24:11.525880: I tensorflow/stream_executor/cuda/cuda_gpu_executor.cc:937] successful NUMA node read from SysFS had negative value (-1), but there must be at least one NUMA node, so returning NUMA node zero\n",
      "2021-12-21 12:24:11.526889: I tensorflow/stream_executor/cuda/cuda_gpu_executor.cc:937] successful NUMA node read from SysFS had negative value (-1), but there must be at least one NUMA node, so returning NUMA node zero\n",
      "2021-12-21 12:24:11.527463: I tensorflow/stream_executor/cuda/cuda_gpu_executor.cc:937] successful NUMA node read from SysFS had negative value (-1), but there must be at least one NUMA node, so returning NUMA node zero\n",
      "2021-12-21 12:24:11.528098: I tensorflow/core/common_runtime/gpu/gpu_device.cc:1510] Created device /job:localhost/replica:0/task:0/device:GPU:0 with 22850 MB memory:  -> device: 0, name: TITAN RTX, pci bus id: 0000:01:00.0, compute capability: 7.5\n",
      "2021-12-21 12:24:11.528405: I tensorflow/stream_executor/cuda/cuda_gpu_executor.cc:937] successful NUMA node read from SysFS had negative value (-1), but there must be at least one NUMA node, so returning NUMA node zero\n",
      "2021-12-21 12:24:11.528873: I tensorflow/core/common_runtime/gpu/gpu_device.cc:1510] Created device /job:localhost/replica:0/task:0/device:GPU:1 with 16692 MB memory:  -> device: 1, name: TITAN RTX, pci bus id: 0000:04:00.0, compute capability: 7.5\n"
     ]
    },
    {
     "name": "stdout",
     "output_type": "stream",
     "text": [
      "Epoch 1/5\n"
     ]
    },
    {
     "name": "stderr",
     "output_type": "stream",
     "text": [
      "2021-12-21 12:24:12.171115: I tensorflow/stream_executor/cuda/cuda_dnn.cc:369] Loaded cuDNN version 8101\n"
     ]
    },
    {
     "name": "stdout",
     "output_type": "stream",
     "text": [
      "7918/7918 [==============================] - 2s 220us/sample - loss: 0.7817 - accuracy: 0.7497\n",
      "Epoch 2/5\n",
      "7918/7918 [==============================] - 0s 62us/sample - loss: 0.2769 - accuracy: 0.9214\n",
      "Epoch 3/5\n",
      "7918/7918 [==============================] - 1s 73us/sample - loss: 0.1689 - accuracy: 0.9492\n",
      "Epoch 4/5\n",
      "7918/7918 [==============================] - 1s 75us/sample - loss: 0.1325 - accuracy: 0.9607\n",
      "Epoch 5/5\n",
      "7918/7918 [==============================] - 1s 70us/sample - loss: 0.1009 - accuracy: 0.9694\n"
     ]
    }
   ],
   "source": [
    "classifier = KerasClassifier(model=model, clip_values=(min_, max_))\n",
    "classifier.fit(x_train, y_train, nb_epochs=5, batch_size=128)"
   ]
  },
  {
   "cell_type": "markdown",
   "id": "0c431a61-fa5e-4c96-aa44-701deeff7a76",
   "metadata": {},
   "source": [
    "Evaluate the model with clean test samples "
   ]
  },
  {
   "cell_type": "code",
   "execution_count": null,
   "id": "acb1b5a6-3b50-498e-89d6-5a5502d4a904",
   "metadata": {},
   "outputs": [
    {
     "name": "stdout",
     "output_type": "stream",
     "text": [
      "\n",
      "Clean test set accuracy: 97.43%\n"
     ]
    },
    {
     "data": {
      "image/png": "[encoded data removed]",
      "text/plain": [
       "<Figure size 432x288 with 1 Axes>"
      ]
     },
     "metadata": {
      "needs_background": "light"
     },
     "output_type": "display_data"
    },
    {
     "name": "stdout",
     "output_type": "stream",
     "text": [
      "Prediction: 0\n"
     ]
    }
   ],
   "source": [
    "clean_x_test = x_test[is_poison_test == 0]\n",
    "clean_y_test = y_test[is_poison_test == 0]\n",
    "\n",
    "clean_preds = np.argmax(classifier.predict(clean_x_test), axis=1)\n",
    "clean_correct = np.sum(clean_preds == np.argmax(clean_y_test, axis=1))\n",
    "clean_total = clean_y_test.shape[0]\n",
    "\n",
    "clean_acc = clean_correct / clean_total\n",
    "print(\"\\nClean test set accuracy: %.2f%%\" % (clean_acc * 100))\n",
    "\n",
    "# Display image, label, and prediction for a clean sample to show how the poisoned model classifies a clean sample\n",
    "\n",
    "c = 0 # class to display\n",
    "i = 0 # image of the class to display\n",
    "\n",
    "c_idx = np.where(np.argmax(clean_y_test,1) == c)[0][i] # index of the image in clean arrays\n",
    "\n",
    "plt.imshow(clean_x_test[c_idx].squeeze())\n",
    "plt.show()\n",
    "clean_label = c\n",
    "print(\"Prediction: \" + str(clean_preds[c_idx]))"
   ]
  },
  {
   "cell_type": "markdown",
   "id": "15035abf-b463-42bb-b77e-e16e7bdc2958",
   "metadata": {},
   "source": [
    "Evaluate the model with poisoning smaples"
   ]
  },
  {
   "cell_type": "code",
   "execution_count": 11,
   "id": "e0375479-00ee-4f56-8f50-735a8f460d8e",
   "metadata": {},
   "outputs": [
    {
     "data": {
      "image/png": "[encoded data removed]",
      "text/plain": [
       "<Figure size 432x288 with 1 Axes>"
      ]
     },
     "metadata": {
      "needs_background": "light"
     },
     "output_type": "display_data"
    },
    {
     "name": "stdout",
     "output_type": "stream",
     "text": [
      "Prediction: 1\n",
      "\n",
      " Effectiveness of poison: 100.00%\n"
     ]
    }
   ],
   "source": [
    "poison_x_test = x_test[is_poison_test]\n",
    "poison_y_test = y_test[is_poison_test]\n",
    "\n",
    "poison_preds = np.argmax(classifier.predict(poison_x_test), axis=1)\n",
    "poison_correct = np.sum(poison_preds == np.argmax(poison_y_test, axis=1))\n",
    "poison_total = poison_y_test.shape[0]\n",
    "\n",
    "# Display image, label, and prediction for a poisoned image to see the backdoor working\n",
    "\n",
    "c = 1 # class to display\n",
    "i = 0 # image of the class to display\n",
    "\n",
    "c_idx = np.where(np.argmax(poison_y_test,1) == c)[0][i] # index of the image in poison arrays\n",
    "\n",
    "plt.imshow(poison_x_test[c_idx].squeeze())\n",
    "plt.show()\n",
    "\n",
    "poison_label = c\n",
    "print(\"Prediction: \" + str(poison_preds[c_idx]))\n",
    "\n",
    "poison_acc = poison_correct / poison_total\n",
    "print(\"\\n Effectiveness of poison: %.2f%%\" % (poison_acc * 100))\n"
   ]
  },
  {
   "cell_type": "code",
   "execution_count": 24,
   "id": "338e3aaf-fda6-4a70-8acd-593669f0a2cc",
   "metadata": {},
   "outputs": [
    {
     "name": "stdout",
     "output_type": "stream",
     "text": [
      "\n",
      " Overall test set accuracy (i.e. effectiveness of poison): 97.57%\n"
     ]
    }
   ],
   "source": [
    "total_correct = clean_correct + poison_correct\n",
    "total = clean_total + poison_total\n",
    "\n",
    "total_acc = total_correct / total\n",
    "print(\"\\n Overall test set accuracy (i.e. effectiveness of poison): %.2f%%\" % (total_acc * 100))"
   ]
  },
  {
   "cell_type": "markdown",
   "id": "e2a1f451-e256-410a-bdbb-44dc9650e1c9",
   "metadata": {},
   "source": [
    "### Defence poisoning attack and evaluate it#"
   ]
  },
  {
   "cell_type": "code",
   "execution_count": 25,
   "id": "6c180e85-7752-470f-865e-50e60fd565ce",
   "metadata": {},
   "outputs": [],
   "source": [
    "from art.defences.detector.poison import SpectralSignatureDefense\n",
    "\n",
    "defence = SpectralSignatureDefense(classifier, x_train, y_train, \n",
    "                                   batch_size=128, eps_multiplier=1, expected_pp_poison=percent_poison)"
   ]
  },
  {
   "cell_type": "code",
   "execution_count": 45,
   "id": "d01a1109-f174-474f-afc7-4bb2b0b612e6",
   "metadata": {
    "tags": []
   },
   "outputs": [
    {
     "name": "stdout",
     "output_type": "stream",
     "text": [
      "------------------- Analysis completed. Report -------------------\n",
      "The number of detected samples:  2617\n",
      "The number of clean samples:  5301\n",
      "Report for detected samples(index: outlier score of suspected poisons: \n",
      "{114: 10.093924,\n",
      " 137: 12.14958,\n",
      " 158: 11.895611,\n",
      " 191: 8.863086,\n",
      " 249: 9.627647,\n",
      " 285: 10.463305,\n",
      " 293: 16.846973,\n",
      " 326: 8.402059,\n",
      " 374: 16.846973,\n",
      " 420: 11.080215}\n"
     ]
    }
   ],
   "source": [
    "report, is_clean_lst = defence.detect_poison(nb_clusters=2,\n",
    "                                             nb_dims=10,\n",
    "                                             reduce=\"PCA\")\n",
    "\n",
    "print(\"------------------- Analysis completed. Report -------------------\")\n",
    "import pprint\n",
    "from itertools import islice\n",
    "pp = pprint.PrettyPrinter(indent=10)\n",
    "\n",
    "num_clean_samples = 0\n",
    "for l in is_clean_lst: \n",
    "    if l == 1:\n",
    "        num_clean_samples += 1\n",
    "\n",
    "print('The number of detected samples: ', len(is_clean_lst) - num_clean_samples)\n",
    "print('The number of clean samples: ', num_clean_samples)\n",
    "print('Report for detected samples(index: outlier score of suspected poisons: ')\n",
    "pprint.pprint(dict(islice(report.items(), 10)))"
   ]
  },
  {
   "cell_type": "code",
   "execution_count": 46,
   "id": "ca62104a-8811-403f-979c-de974fabcf64",
   "metadata": {},
   "outputs": [
    {
     "name": "stdout",
     "output_type": "stream",
     "text": [
      "------------------- Results using size metric -------------------\n",
      "class_0\n",
      "{'FalseNegative': {'denominator': 49, 'numerator': 34, 'rate': 69.39},\n",
      " 'FalsePositive': {'denominator': 672, 'numerator': 223, 'rate': 33.18},\n",
      " 'TrueNegative': {'denominator': 672, 'numerator': 449, 'rate': 66.82},\n",
      " 'TruePositive': {'denominator': 49, 'numerator': 15, 'rate': 30.61}}\n",
      "class_1\n",
      "{'FalseNegative': {'denominator': 71, 'numerator': 47, 'rate': 66.2},\n",
      " 'FalsePositive': {'denominator': 1196, 'numerator': 394, 'rate': 32.94},\n",
      " 'TrueNegative': {'denominator': 1196, 'numerator': 802, 'rate': 67.06},\n",
      " 'TruePositive': {'denominator': 71, 'numerator': 24, 'rate': 33.8}}\n",
      "class_2\n",
      "{'FalseNegative': {'denominator': 44, 'numerator': 25, 'rate': 56.82},\n",
      " 'FalsePositive': {'denominator': 704, 'numerator': 228, 'rate': 32.39},\n",
      " 'TrueNegative': {'denominator': 704, 'numerator': 476, 'rate': 67.61},\n",
      " 'TruePositive': {'denominator': 44, 'numerator': 19, 'rate': 43.18}}\n",
      "class_3\n",
      "{'FalseNegative': {'denominator': 40, 'numerator': 24, 'rate': 60.0},\n",
      " 'FalsePositive': {'denominator': 781, 'numerator': 255, 'rate': 32.65},\n",
      " 'TrueNegative': {'denominator': 781, 'numerator': 526, 'rate': 67.35},\n",
      " 'TruePositive': {'denominator': 40, 'numerator': 16, 'rate': 40.0}}\n",
      "class_4\n",
      "{'FalseNegative': {'denominator': 38, 'numerator': 29, 'rate': 76.32},\n",
      " 'FalsePositive': {'denominator': 685, 'numerator': 230, 'rate': 33.58},\n",
      " 'TrueNegative': {'denominator': 685, 'numerator': 455, 'rate': 66.42},\n",
      " 'TruePositive': {'denominator': 38, 'numerator': 9, 'rate': 23.68}}\n",
      "class_5\n",
      "{'FalseNegative': {'denominator': 34, 'numerator': 21, 'rate': 61.76},\n",
      " 'FalsePositive': {'denominator': 649, 'numerator': 213, 'rate': 32.82},\n",
      " 'TrueNegative': {'denominator': 649, 'numerator': 436, 'rate': 67.18},\n",
      " 'TruePositive': {'denominator': 34, 'numerator': 13, 'rate': 38.24}}\n",
      "class_6\n",
      "{'FalseNegative': {'denominator': 33, 'numerator': 26, 'rate': 78.79},\n",
      " 'FalsePositive': {'denominator': 714, 'numerator': 241, 'rate': 33.75},\n",
      " 'TrueNegative': {'denominator': 714, 'numerator': 473, 'rate': 66.25},\n",
      " 'TruePositive': {'denominator': 33, 'numerator': 7, 'rate': 21.21}}\n",
      "class_7\n",
      "{'FalseNegative': {'denominator': 37, 'numerator': 20, 'rate': 54.05},\n",
      " 'FalsePositive': {'denominator': 759, 'numerator': 246, 'rate': 32.41},\n",
      " 'TrueNegative': {'denominator': 759, 'numerator': 513, 'rate': 67.59},\n",
      " 'TruePositive': {'denominator': 37, 'numerator': 17, 'rate': 45.95}}\n",
      "class_8\n",
      "{'FalseNegative': {'denominator': 36, 'numerator': 25, 'rate': 69.44},\n",
      " 'FalsePositive': {'denominator': 650, 'numerator': 216, 'rate': 33.23},\n",
      " 'TrueNegative': {'denominator': 650, 'numerator': 434, 'rate': 66.77},\n",
      " 'TruePositive': {'denominator': 36, 'numerator': 11, 'rate': 30.56}}\n",
      "class_9\n",
      "{'FalseNegative': {'denominator': 36, 'numerator': 27, 'rate': 75.0},\n",
      " 'FalsePositive': {'denominator': 690, 'numerator': 231, 'rate': 33.48},\n",
      " 'TrueNegative': {'denominator': 690, 'numerator': 459, 'rate': 66.52},\n",
      " 'TruePositive': {'denominator': 36, 'numerator': 9, 'rate': 25.0}}\n"
     ]
    }
   ],
   "source": [
    "# Evaluate method when ground truth is known:\n",
    "print(\"------------------- Results using size metric -------------------\")\n",
    "is_clean = (is_poison_train == 0)\n",
    "confusion_matrix = defence.evaluate_defence(is_clean)\n",
    "\n",
    "import json\n",
    "jsonObject = json.loads(confusion_matrix)\n",
    "for label in jsonObject:\n",
    "    print(label)\n",
    "    pprint.pprint(jsonObject[label]) "
   ]
  },
  {
   "cell_type": "code",
   "execution_count": null,
   "id": "0b7d698d-7178-4e46-b06b-dbc1a732d78d",
   "metadata": {},
   "outputs": [],
   "source": []
  }
 ],
 "metadata": {
  "kernelspec": {
   "display_name": "Python 3 (ipykernel)",
   "language": "python",
   "name": "python3"
  },
  "language_info": {
   "codemirror_mode": {
    "name": "ipython",
    "version": 3
   },
   "file_extension": ".py",
   "mimetype": "text/x-python",
   "name": "python",
   "nbconvert_exporter": "python",
   "pygments_lexer": "ipython3",
   "version": "3.7.11"
  }
 },
 "nbformat": 4,
 "nbformat_minor": 5
}
