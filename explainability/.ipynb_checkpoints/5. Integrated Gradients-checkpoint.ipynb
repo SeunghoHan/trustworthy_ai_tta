{
 "cells": [
  {
   "cell_type": "markdown",
   "id": "f50f894d-ee5d-4d48-bc58-18e1a387e44d",
   "metadata": {},
   "source": [
    "# 5. Integrated Gradients\n",
    "\n",
    "Integrated gradients is a method originally proposed in Sundararajan et al., “Axiomatic Attribution for Deep Networks” that aims to attribute an importance value to each input feature of a machine learning model based on the gradients of the model output with respect to the input. In particular, integrated gradients defines an attribution value for each feature by considering the integral of the gradients taken along a straight path from a baseline instance x' to the input instance x.\n",
    "\n",
    "\n",
    "### ALE description:\n",
    "- https://docs.seldon.io/projects/alibi/en/stable/methods/IntegratedGradients.html\n",
    "\n",
    "### API Reference:\n",
    "- https://docs.seldon.io/projects/alibi/en/stable/api/alibi.explainers.html#alibi.explainers.IntegratedGradients\n",
    "\n",
    "### Related paper:\n",
    "- [Sundararajan, Mukund, Ankur Taly, and Qiqi Yan. \"Axiomatic attribution for deep networks.\" International Conference on Machine Learning. PMLR, 2017.](https://arxiv.org/pdf/1703.01365.pdf)\n",
    "\n",
    "---"
   ]
  },
  {
   "cell_type": "markdown",
   "id": "1d16ee39-7d54-4216-a0e7-c2ed4157765a",
   "metadata": {
    "tags": []
   },
   "source": [
    "## 5-1. Integrated gradients for MNIST\n",
    "\n",
    "In this notebook we apply the integrated gradients method to a convolutional network trained on the MNIST dataset. Integrated gradients defines an attribution value for each feature of the input instance (in this case for each pixel in the image) by integrating the model’s gradients with respect to the input along a straight path from a baseline instance x' to the input instance x."
   ]
  },
  {
   "cell_type": "code",
   "execution_count": 1,
   "id": "86618433-aee1-4d77-ae2d-15406dc76435",
   "metadata": {},
   "outputs": [
    {
     "name": "stderr",
     "output_type": "stream",
     "text": [
      "/archive/library/anaconda3/envs/tta/lib/python3.7/site-packages/redis/connection.py:72: UserWarning: redis-py works best with hiredis. Please consider installing\n",
      "  warnings.warn(msg)\n"
     ]
    },
    {
     "name": "stdout",
     "output_type": "stream",
     "text": [
      "TF version:  2.6.2\n",
      "Eager execution enabled:  True\n"
     ]
    }
   ],
   "source": [
    "import numpy as np\n",
    "import os\n",
    "import tensorflow as tf\n",
    "from tensorflow.keras.layers import Activation, Conv2D, Dense, Dropout\n",
    "from tensorflow.keras.layers import Flatten, Input, Reshape, MaxPooling2D\n",
    "from tensorflow.keras.models import Model\n",
    "from tensorflow.keras.utils import to_categorical\n",
    "from alibi.explainers import IntegratedGradients\n",
    "import matplotlib.pyplot as plt\n",
    "print('TF version: ', tf.__version__)\n",
    "print('Eager execution enabled: ', tf.executing_eagerly()) # True"
   ]
  },
  {
   "cell_type": "markdown",
   "id": "31c4f2b3-3c48-4125-b885-055c5a36fb51",
   "metadata": {},
   "source": [
    "### Load data\n",
    "Loading and preparing the MNIST data set."
   ]
  },
  {
   "cell_type": "code",
   "execution_count": 2,
   "id": "c08dfad0-7cd4-43a5-aec3-7e0226c7c54a",
   "metadata": {},
   "outputs": [
    {
     "name": "stdout",
     "output_type": "stream",
     "text": [
      "(60000, 28, 28, 1) (60000, 10) (10000, 28, 28, 1) (10000, 10)\n"
     ]
    }
   ],
   "source": [
    "train, test = tf.keras.datasets.mnist.load_data()\n",
    "X_train, y_train = train\n",
    "X_test, y_test = test\n",
    "test_labels = y_test.copy()\n",
    "train_labels = y_train.copy()\n",
    "\n",
    "X_train = X_train.reshape(-1, 28, 28, 1).astype('float64') / 255\n",
    "X_test = X_test.reshape(-1, 28, 28, 1).astype('float64') / 255\n",
    "y_train = to_categorical(y_train, 10)\n",
    "y_test = to_categorical(y_test, 10)\n",
    "print(X_train.shape, y_train.shape, X_test.shape, y_test.shape)"
   ]
  },
  {
   "cell_type": "markdown",
   "id": "d1205777-2922-40e7-949b-32bd8bd7414f",
   "metadata": {},
   "source": [
    "### Train model\n",
    "\n",
    "Train a convolutional neural network on the MNIST dataset. The model includes 2 convolutional layers and it reaches a test accuracy of 0.98. If `save_model = True`, a local folder `./model_mnist` will be created and the trained model will be saved in that folder. If the model was previously saved, it can be loaded by setting `oad_mnist_model = True`."
   ]
  },
  {
   "cell_type": "code",
   "execution_count": 3,
   "id": "4bb9bfec-b977-4a46-ac3b-1983ff516e33",
   "metadata": {},
   "outputs": [],
   "source": [
    "load_mnist_model = False\n",
    "save_model = True"
   ]
  },
  {
   "cell_type": "code",
   "execution_count": 5,
   "id": "038b72cf-434e-435b-8679-9286542910be",
   "metadata": {},
   "outputs": [
    {
     "name": "stdout",
     "output_type": "stream",
     "text": [
      "Epoch 1/6\n",
      "235/235 [==============================] - 1s 5ms/step - loss: 0.5039 - accuracy: 0.8390 - val_loss: 0.1314 - val_accuracy: 0.9624\n",
      "Epoch 2/6\n",
      "235/235 [==============================] - 1s 4ms/step - loss: 0.1807 - accuracy: 0.9445 - val_loss: 0.0791 - val_accuracy: 0.9747\n",
      "Epoch 3/6\n",
      "235/235 [==============================] - 2s 7ms/step - loss: 0.1315 - accuracy: 0.9596 - val_loss: 0.0612 - val_accuracy: 0.9813\n",
      "Epoch 4/6\n",
      "235/235 [==============================] - 1s 6ms/step - loss: 0.1076 - accuracy: 0.9662 - val_loss: 0.0502 - val_accuracy: 0.9838\n",
      "Epoch 5/6\n",
      "235/235 [==============================] - 2s 7ms/step - loss: 0.0928 - accuracy: 0.9711 - val_loss: 0.0423 - val_accuracy: 0.9871\n",
      "Epoch 6/6\n",
      "235/235 [==============================] - 1s 5ms/step - loss: 0.0797 - accuracy: 0.9753 - val_loss: 0.0373 - val_accuracy: 0.9878\n"
     ]
    },
    {
     "data": {
      "text/plain": [
       "<keras.callbacks.History at 0x7efc70587c10>"
      ]
     },
     "execution_count": 5,
     "metadata": {},
     "output_type": "execute_result"
    }
   ],
   "source": [
    "# define model\n",
    "inputs = Input(shape=(X_train.shape[1:]), dtype=tf.float64)\n",
    "x = Conv2D(64, 2, padding='same', activation='relu')(inputs)\n",
    "x = MaxPooling2D(pool_size=2)(x)\n",
    "x = Dropout(.3)(x)\n",
    "\n",
    "x = Conv2D(32, 2, padding='same', activation='relu')(x)\n",
    "x = MaxPooling2D(pool_size=2)(x)\n",
    "x = Dropout(.3)(x)\n",
    "\n",
    "x = Flatten()(x)\n",
    "x = Dense(256, activation='relu')(x)\n",
    "x = Dropout(.5)(x)\n",
    "logits = Dense(10, name='logits')(x)\n",
    "outputs = Activation('softmax', name='softmax')(logits)\n",
    "\n",
    "model = Model(inputs=inputs, outputs=outputs)\n",
    "model.compile(loss='categorical_crossentropy',\n",
    "              optimizer='adam',\n",
    "              metrics=['accuracy'])\n",
    "\n",
    "# train model\n",
    "model.fit(X_train,\n",
    "          y_train,\n",
    "          epochs=6,\n",
    "          batch_size=256,\n",
    "          verbose=1,\n",
    "          validation_data=(X_test, y_test)\n",
    "          )"
   ]
  },
  {
   "cell_type": "markdown",
   "id": "2482672f-1f17-4253-b1cc-af918453a055",
   "metadata": {},
   "source": [
    "### Calculate integrated gradients\n",
    "\n",
    "The IntegratedGradients class implements the integrated gradients attribution method. A description of the method can be found here.\n",
    "\n",
    "In the following example, the baselines (i.e. the starting points of the path integral) are black images (all pixel values are set to zero). This means that black areas of the image will always have zero attribution. The path integral is defined as a straight line from the baseline to the input image. The path is approximated by choosing 50 discrete steps according to the Gauss-Legendre method."
   ]
  },
  {
   "cell_type": "code",
   "execution_count": 11,
   "id": "8c70b6b7-2cd9-4475-b9ee-a1398619b23c",
   "metadata": {},
   "outputs": [],
   "source": [
    "# Initialize IntegratedGradients instance\n",
    "n_steps = 50\n",
    "method = \"gausslegendre\"  # Method for the integral approximation. \n",
    "                          # Methods available: “riemann_left”, “riemann_right”, \n",
    "                          # “riemann_middle”, “riemann_trapezoid”, “gausslegendre”.\n",
    "        \n",
    "ig  = IntegratedGradients(model,\n",
    "                          n_steps=n_steps,\n",
    "                          method=method)"
   ]
  },
  {
   "cell_type": "code",
   "execution_count": 12,
   "id": "44e515b9-6aec-4a45-8cff-72c57a0c8fa2",
   "metadata": {},
   "outputs": [],
   "source": [
    "# Calculate attributions for the first 10 images in the test set\n",
    "nb_samples = 10\n",
    "X_test_sample = X_test[:nb_samples]\n",
    "predictions = model(X_test_sample)\n",
    "# print(predictions.argmax(axis=1))\n",
    "predictions = model(X_test_sample).numpy().argmax(axis=1)\n",
    "explanation = ig.explain(X_test_sample,\n",
    "                         baselines=None,\n",
    "                         target=predictions)"
   ]
  },
  {
   "cell_type": "code",
   "execution_count": 13,
   "id": "babf0eb1-67ed-4eb1-bc1c-83e002e8faa2",
   "metadata": {},
   "outputs": [
    {
     "data": {
      "text/plain": [
       "{'name': 'IntegratedGradients',\n",
       " 'type': ['whitebox'],\n",
       " 'explanations': ['local'],\n",
       " 'params': {'method': 'gausslegendre',\n",
       "  'n_steps': 50,\n",
       "  'internal_batch_size': 100,\n",
       "  'layer': 0},\n",
       " 'version': '0.6.2'}"
      ]
     },
     "execution_count": 13,
     "metadata": {},
     "output_type": "execute_result"
    }
   ],
   "source": [
    "# Metadata from the explanation object\n",
    "explanation.meta"
   ]
  },
  {
   "cell_type": "code",
   "execution_count": 14,
   "id": "b0fd0953-d57a-4e4f-ab9f-2c605ad0dc2c",
   "metadata": {},
   "outputs": [
    {
     "data": {
      "text/plain": [
       "dict_keys(['attributions', 'X', 'forward_kwargs', 'baselines', 'predictions', 'deltas', 'target'])"
      ]
     },
     "execution_count": 14,
     "metadata": {},
     "output_type": "execute_result"
    }
   ],
   "source": [
    "# Data fields from the explanation object\n",
    "explanation.data.keys()"
   ]
  },
  {
   "cell_type": "code",
   "execution_count": 15,
   "id": "dd379ffc-49af-4c95-abca-83d77fdb9356",
   "metadata": {},
   "outputs": [],
   "source": [
    "# Get attributions values from the explanation object\n",
    "attrs = explanation.attributions[0]"
   ]
  },
  {
   "cell_type": "markdown",
   "id": "a04eafdf-3fd5-4cf8-9f36-197b00ca5f21",
   "metadata": {},
   "source": [
    "### Visualize attributions\n",
    "Sample images from the test dataset and their attributions.\n",
    "\n",
    "- The first column shows the original image.\n",
    "- The second column shows the values of the attributions.\n",
    "- The third column shows the positive valued attributions.\n",
    "- The fourth column shows the negative valued attributions.\n",
    "\n",
    "The attributions are calculated using the black image as a baseline for all samples."
   ]
  },
  {
   "cell_type": "code",
   "execution_count": 16,
   "id": "80b2f6a1-f8a7-4f39-ac2f-b7ad5e59a200",
   "metadata": {},
   "outputs": [
    {
     "data": {
      "image/png": "[encoded data removed]",
      "text/plain": [
       "<Figure size 720x504 with 13 Axes>"
      ]
     },
     "metadata": {
      "needs_background": "light"
     },
     "output_type": "display_data"
    }
   ],
   "source": [
    "fig, ax = plt.subplots(nrows=3, ncols=4, figsize=(10, 7))\n",
    "image_ids = [0, 1, 9]\n",
    "cmap_bound = np.abs(attrs[[0, 1, 9]]).max()\n",
    "\n",
    "for row, image_id in enumerate(image_ids):\n",
    "    # original images\n",
    "    ax[row, 0].imshow(X_test[image_id].squeeze(), cmap='gray')\n",
    "    ax[row, 0].set_title(f'Prediction: {predictions[image_id]}')\n",
    "\n",
    "    # attributions\n",
    "    attr = attrs[image_id]\n",
    "    im = ax[row, 1].imshow(attr.squeeze(), vmin=-cmap_bound, vmax=cmap_bound, cmap='PiYG')\n",
    "\n",
    "    # positive attributions\n",
    "    attr_pos = attr.clip(0, 1)\n",
    "    im_pos = ax[row, 2].imshow(attr_pos.squeeze(), vmin=-cmap_bound, vmax=cmap_bound, cmap='PiYG')\n",
    "\n",
    "    # negative attributions\n",
    "    attr_neg = attr.clip(-1, 0)\n",
    "    im_neg = ax[row, 3].imshow(attr_neg.squeeze(), vmin=-cmap_bound, vmax=cmap_bound, cmap='PiYG')\n",
    "\n",
    "ax[0, 1].set_title('Attributions');\n",
    "ax[0, 2].set_title('Positive attributions');\n",
    "ax[0, 3].set_title('Negative attributions');\n",
    "\n",
    "for ax in fig.axes:\n",
    "    ax.axis('off')\n",
    "\n",
    "fig.colorbar(im, cax=fig.add_axes([0.95, 0.25, 0.03, 0.5]));"
   ]
  },
  {
   "cell_type": "markdown",
   "id": "9067562a-b2b6-42af-b4c0-436e57fede25",
   "metadata": {},
   "source": [
    "## 5-2. Integrated gradients for transformers models\n",
    "\n",
    "In this example, we apply the integrated gradients method to two different sentiment analysis models. The first one is a pretrained sentiment analysis model from the transformers library. The second model is a combination of a pretrained BERT model and a simple feed forward network. The feed forward network is trained on the IMDB dataset using the BERT output embeddings as features.\n",
    "\n",
    "In text classification models, integrated gradients define an attribution value for each word in the input sentence. The attributions are calculated considering the integral of the model gradients with respect to the word embedding layer along a straight path from a baseline instance x' to the input instance x."
   ]
  },
  {
   "cell_type": "code",
   "execution_count": 18,
   "id": "232c9cb7-bab4-465f-ac2a-d6a51eae86ec",
   "metadata": {},
   "outputs": [],
   "source": [
    "import re\n",
    "import os\n",
    "import numpy as np\n",
    "import tensorflow as tf\n",
    "import matplotlib as mpl\n",
    "import matplotlib.cm\n",
    "\n",
    "from tqdm import tqdm\n",
    "from transformers import TFAutoModelForSequenceClassification, AutoTokenizer\n",
    "from transformers import BertTokenizerFast, TFBertModel, BertConfig\n",
    "from alibi.explainers import IntegratedGradients\n",
    "from tensorflow.keras.datasets import imdb\n",
    "from tensorflow.keras.utils import to_categorical\n",
    "from tensorflow.keras.preprocessing import sequence\n",
    "from tensorflow.keras.optimizers import Adam"
   ]
  },
  {
   "cell_type": "markdown",
   "id": "2d5564a4-20c8-4553-a44a-2fde43c869c0",
   "metadata": {},
   "source": [
    "Here we define some functions needed to process the data. For consistency with other text examples in alibi, we will use the IMDB dataset provided by keras. Since the dataset consists of reviews that are already tokenized, we need to decode each sentence and re-convert them into tokens using the BERT tokenizer."
   ]
  },
  {
   "cell_type": "code",
   "execution_count": 19,
   "id": "8f19e89b-a721-49a2-9e4c-4c1be291be54",
   "metadata": {},
   "outputs": [],
   "source": [
    "def decode_sentence(x, reverse_index):\n",
    "    \"\"\"Decodes the tokenized sentences from keras IMDB dataset into plain text.\n",
    "    \"\"\"\n",
    "    # the `-3` offset is due to the special tokens used by keras\n",
    "    # see https://stackoverflow.com/questions/42821330/restore-original-text-from-keras-s-imdb-dataset\n",
    "    return \" \".join([reverse_index.get(i - 3, 'UNK') for i in x])\n",
    "\n",
    "def preprocess_reviews(reviews):\n",
    "    \"\"\"Preprocess the text.\n",
    "    \"\"\"\n",
    "    REPLACE_NO_SPACE = re.compile(\"[.;:,!\\'?\\\"()\\[\\]]\")\n",
    "    REPLACE_WITH_SPACE = re.compile(\"(<br\\s*/><br\\s*/>)|(\\-)|(\\/)\")\n",
    "\n",
    "    reviews = [REPLACE_NO_SPACE.sub(\"\", line.lower()) for line in reviews]\n",
    "    reviews = [REPLACE_WITH_SPACE.sub(\" \", line) for line in reviews]\n",
    "\n",
    "    return reviews\n",
    "\n",
    "def process_sentences(sentence,\n",
    "                      tokenizer,\n",
    "                      max_len):\n",
    "    \"\"\"Tokenize the text sentences.\n",
    "    \"\"\"\n",
    "    z = tokenizer(sentence,\n",
    "                  add_special_tokens = False,\n",
    "                  padding = 'max_length',\n",
    "                  max_length = max_len,\n",
    "                  truncation = True,\n",
    "                  return_token_type_ids=True,\n",
    "                  return_attention_mask = True,\n",
    "                  return_tensors = 'np')\n",
    "    return z"
   ]
  },
  {
   "cell_type": "markdown",
   "id": "4a271601-1d3a-4cf3-9a17-17b4bcf67ef7",
   "metadata": {},
   "source": [
    "### Automodel\n",
    "\n",
    "In this section, we will use the tensorflow auto model for sequence classification provided by the transformers library.\n",
    "\n",
    "The model is pre-trained on the Stanford Sentiment Treebank (SST) dataset. The Stanford Sentiment Treebank is the first corpus with fully labeled parse trees that allows for a complete analysis of the compositional effects of sentiment in language.\n",
    "\n",
    "Each phrase is labelled as either negative, somewhat negative, neutral, somewhat positive or positive. The corpus with all 5 labels is referred to as SST-5 or SST fine-grained. Binary classification experiments on full sentences (negative or somewhat negative vs somewhat positive or positive with neutral sentences discarded) refer to the dataset as SST-2 or SST binary. In this example, we will use a text classifier pre-trained on the SST-2 dataset."
   ]
  },
  {
   "cell_type": "code",
   "execution_count": 20,
   "id": "81ae3599-e991-4ba6-8249-4da79c5c4d14",
   "metadata": {},
   "outputs": [
    {
     "name": "stderr",
     "output_type": "stream",
     "text": [
      "2021-12-29 12:16:27.328502: W tensorflow/python/util/util.cc:348] Sets are not currently considered sequences, but this may change in the future, so consider avoiding using them.\n",
      "Some layers from the model checkpoint at distilbert-base-uncased-finetuned-sst-2-english were not used when initializing TFDistilBertForSequenceClassification: ['dropout_19']\n",
      "- This IS expected if you are initializing TFDistilBertForSequenceClassification from the checkpoint of a model trained on another task or with another architecture (e.g. initializing a BertForSequenceClassification model from a BertForPreTraining model).\n",
      "- This IS NOT expected if you are initializing TFDistilBertForSequenceClassification from the checkpoint of a model that you expect to be exactly identical (initializing a BertForSequenceClassification model from a BertForSequenceClassification model).\n",
      "Some layers of TFDistilBertForSequenceClassification were not initialized from the model checkpoint at distilbert-base-uncased-finetuned-sst-2-english and are newly initialized: ['dropout_25']\n",
      "You should probably TRAIN this model on a down-stream task to be able to use it for predictions and inference.\n"
     ]
    }
   ],
   "source": [
    "from transformers import TFAutoModelForSequenceClassification, AutoTokenizer\n",
    "\n",
    "model_name = \"distilbert-base-uncased-finetuned-sst-2-english\"\n",
    "auto_model_bert = TFAutoModelForSequenceClassification.from_pretrained(model_name)\n",
    "tokenizer = AutoTokenizer.from_pretrained(model_name)"
   ]
  },
  {
   "cell_type": "markdown",
   "id": "879e0090-7bce-43b7-ba54-2685fc15a204",
   "metadata": {},
   "source": [
    "The automodel output is a custom object containing the output logits. We use a wrapper to transform the output into a tensor and apply a softmax function to the logits."
   ]
  },
  {
   "cell_type": "code",
   "execution_count": 22,
   "id": "fe26afd7-073f-40c1-a98d-337d39543368",
   "metadata": {},
   "outputs": [],
   "source": [
    "class AutoModelWrapper(tf.keras.Model):\n",
    "\n",
    "    def __init__(self, model_bert, **kwargs):\n",
    "        super().__init__()\n",
    "        self.model_bert = model_bert\n",
    "\n",
    "    def call(self, inputs, attention_mask=None):\n",
    "        out = self.model_bert(inputs,\n",
    "                              attention_mask=attention_mask)\n",
    "        return tf.nn.softmax(out.logits)\n",
    "\n",
    "    def get_config(self):\n",
    "        return {}\n",
    "\n",
    "    @classmethod\n",
    "    def from_config(cls, config):\n",
    "        return cls(**config)"
   ]
  },
  {
   "cell_type": "code",
   "execution_count": 23,
   "id": "1efe320b-30b7-4afe-8d4a-93f4fcb0d3fb",
   "metadata": {},
   "outputs": [],
   "source": [
    "auto_model = AutoModelWrapper(auto_model_bert)"
   ]
  },
  {
   "cell_type": "markdown",
   "id": "dcf55755-b169-4163-82f1-3afbe8232d7d",
   "metadata": {},
   "source": [
    "### Calculate integrated gradients"
   ]
  },
  {
   "cell_type": "code",
   "execution_count": 24,
   "id": "9e85e756-b971-40e0-a86e-c63d92d651a6",
   "metadata": {},
   "outputs": [],
   "source": [
    "max_features = 10000\n",
    "max_len = 100"
   ]
  },
  {
   "cell_type": "markdown",
   "id": "214dd7f6-7ebb-4df8-aef2-1cd89da04295",
   "metadata": {},
   "source": [
    "Here we consider some simple sentences such as “I love you, I like you”, “I love you, I like you, but I also kind of dislike you” ."
   ]
  },
  {
   "cell_type": "code",
   "execution_count": 25,
   "id": "56c6fd4e-3bad-4e3a-89fc-523b59ab0bc3",
   "metadata": {},
   "outputs": [],
   "source": [
    "\n",
    "z_test_sample = ['I love you, I like you',\n",
    "                'I love you, I like you, but I also kind of dislike you']\n",
    "z_test_sample = preprocess_reviews(z_test_sample)\n",
    "z_test_sample = process_sentences(z_test_sample,\n",
    "                                   tokenizer,\n",
    "                                   max_len)\n",
    "x_test_sample = z_test_sample['input_ids']\n",
    "\n",
    "# the values of the kwargs have to be `tf.Tensor`.\n",
    "# see transformers issue #14404: https://github.com/huggingface/transformers/issues/14404\n",
    "kwargs = {k: tf.constant(v) for k,v in z_test_sample.items() if k == 'attention_mask'}"
   ]
  },
  {
   "cell_type": "markdown",
   "id": "8f78c5bf-d8d2-4ddb-912b-8602c97046e6",
   "metadata": {},
   "source": [
    "The auto model consists of a main BERT layer (layer 0) followed by two dense layers."
   ]
  },
  {
   "cell_type": "code",
   "execution_count": 26,
   "id": "5a1cc433-66b5-4021-890a-8b291e86e3c9",
   "metadata": {},
   "outputs": [
    {
     "data": {
      "text/plain": [
       "[<transformers.models.distilbert.modeling_tf_distilbert.TFDistilBertMainLayer at 0x7efd0632e490>,\n",
       " <keras.layers.core.Dense at 0x7efc48054b50>,\n",
       " <keras.layers.core.Dense at 0x7efc48054f50>,\n",
       " <keras.layers.core.Dropout at 0x7efc3c5d4250>]"
      ]
     },
     "execution_count": 26,
     "metadata": {},
     "output_type": "execute_result"
    }
   ],
   "source": [
    "auto_model.layers[0].layers"
   ]
  },
  {
   "cell_type": "markdown",
   "id": "47ac6872-08d8-4fb5-947a-a21fb130df17",
   "metadata": {},
   "source": [
    "We extract the first transformer’s block in the main BERT layer."
   ]
  },
  {
   "cell_type": "code",
   "execution_count": 27,
   "id": "4a479d70-89d5-4fd3-949a-64a11e6da836",
   "metadata": {},
   "outputs": [],
   "source": [
    "#  Extracting the first transformer block\n",
    "bl = auto_model.layers[0].layers[0].transformer.layer[1]\n",
    "\n",
    "n_steps = 5\n",
    "method = \"gausslegendre\"\n",
    "internal_batch_size = 5\n",
    "ig  = IntegratedGradients(auto_model,\n",
    "                          layer=bl,\n",
    "                          n_steps=n_steps,\n",
    "                          method=method,\n",
    "                          internal_batch_size=internal_batch_size)\n",
    "\n",
    "predictions = auto_model(x_test_sample, **kwargs).numpy().argmax(axis=1)\n",
    "explanation = ig.explain(x_test_sample,\n",
    "                         forward_kwargs=kwargs,\n",
    "                         baselines=None,\n",
    "                         target=predictions)"
   ]
  },
  {
   "cell_type": "code",
   "execution_count": 28,
   "id": "b655ff6d-4aa5-4093-9c81-c9f7a72ab81c",
   "metadata": {},
   "outputs": [
    {
     "name": "stdout",
     "output_type": "stream",
     "text": [
      "Attributions shape: (2, 100, 768)\n"
     ]
    }
   ],
   "source": [
    "# Get attributions values from the explanation object\n",
    "attrs = explanation.attributions[0]\n",
    "print('Attributions shape:', attrs.shape)"
   ]
  },
  {
   "cell_type": "code",
   "execution_count": 29,
   "id": "8f1f2e61-de65-4583-b98a-bcf9b1bb221c",
   "metadata": {},
   "outputs": [
    {
     "name": "stdout",
     "output_type": "stream",
     "text": [
      "Attributions shape: (2, 100)\n"
     ]
    }
   ],
   "source": [
    "attrs = attrs.sum(axis=2)\n",
    "print('Attributions shape:', attrs.shape)"
   ]
  },
  {
   "cell_type": "code",
   "execution_count": 30,
   "id": "1f31df80-e894-4e8e-a583-03c88a2e5f49",
   "metadata": {},
   "outputs": [],
   "source": [
    "i = 1\n",
    "x_i = x_test_sample[i]\n",
    "attrs_i = attrs[i]\n",
    "pred = predictions[i]\n",
    "pred_dict = {1: 'Positive review', 0: 'Negative review'}"
   ]
  },
  {
   "cell_type": "code",
   "execution_count": 31,
   "id": "973c19bb-81cf-43a2-a753-39e52ff1163c",
   "metadata": {},
   "outputs": [],
   "source": [
    "from IPython.display import HTML\n",
    "def  hlstr(string, color='white'):\n",
    "    \"\"\"\n",
    "    Return HTML markup highlighting text with the desired color.\n",
    "    \"\"\"\n",
    "    return f\"<mark style=background-color:{color}>{string} </mark>\""
   ]
  },
  {
   "cell_type": "code",
   "execution_count": 32,
   "id": "bf314ec5-a410-4a1b-aa26-e9779496df2a",
   "metadata": {},
   "outputs": [],
   "source": [
    "def colorize(attrs, cmap='PiYG'):\n",
    "    \"\"\"\n",
    "    Compute hex colors based on the attributions for a single instance.\n",
    "    Uses a diverging colorscale by default and normalizes and scales\n",
    "    the colormap so that colors are consistent with the attributions.\n",
    "    \"\"\"\n",
    "    cmap_bound = np.abs(attrs).max()\n",
    "    norm = mpl.colors.Normalize(vmin=-cmap_bound, vmax=cmap_bound)\n",
    "    cmap = mpl.cm.get_cmap(cmap)\n",
    "\n",
    "    # now compute hex values of colors\n",
    "    colors = list(map(lambda x: mpl.colors.rgb2hex(cmap(norm(x))), attrs))\n",
    "    return colors"
   ]
  },
  {
   "cell_type": "code",
   "execution_count": 34,
   "id": "7de60db1-a0d3-4d69-98f0-db892b02df3a",
   "metadata": {},
   "outputs": [
    {
     "name": "stdout",
     "output_type": "stream",
     "text": [
      "Predicted label =  1: Positive review\n"
     ]
    },
    {
     "data": {
      "text/html": [
       "<mark style=background-color:#f9f1f5>i </mark><mark style=background-color:#276419>love </mark><mark style=background-color:#cfebaa>you </mark><mark style=background-color:#edf6e1>i </mark><mark style=background-color:#7dba40>like </mark><mark style=background-color:#e2f3ca>you </mark><mark style=background-color:#f8cee6>but </mark><mark style=background-color:#faebf3>i </mark><mark style=background-color:#b9e187>also </mark><mark style=background-color:#f3bdde>kind </mark><mark style=background-color:#faeaf2>of </mark><mark style=background-color:#e58dbe>dislike </mark><mark style=background-color:#bde38d>you </mark><mark style=background-color:#f7f7f6>[PAD] </mark><mark style=background-color:#f7f7f6>[PAD] </mark><mark style=background-color:#f7f7f6>[PAD] </mark><mark style=background-color:#f7f7f6>[PAD] </mark><mark style=background-color:#f7f7f6>[PAD] </mark><mark style=background-color:#f7f7f6>[PAD] </mark><mark style=background-color:#f7f7f6>[PAD] </mark><mark style=background-color:#f7f7f6>[PAD] </mark><mark style=background-color:#f7f7f6>[PAD] </mark><mark style=background-color:#f7f7f6>[PAD] </mark><mark style=background-color:#f7f7f6>[PAD] </mark><mark style=background-color:#f7f7f6>[PAD] </mark><mark style=background-color:#f7f7f6>[PAD] </mark><mark style=background-color:#f7f7f6>[PAD] </mark><mark style=background-color:#f7f7f6>[PAD] </mark><mark style=background-color:#f7f7f6>[PAD] </mark><mark style=background-color:#f7f7f6>[PAD] </mark><mark style=background-color:#f7f7f6>[PAD] </mark><mark style=background-color:#f7f7f6>[PAD] </mark><mark style=background-color:#f7f7f6>[PAD] </mark><mark style=background-color:#f7f7f6>[PAD] </mark><mark style=background-color:#f7f7f6>[PAD] </mark><mark style=background-color:#f7f7f6>[PAD] </mark><mark style=background-color:#f7f7f6>[PAD] </mark><mark style=background-color:#f7f7f6>[PAD] </mark><mark style=background-color:#f7f7f6>[PAD] </mark><mark style=background-color:#f7f7f6>[PAD] </mark><mark style=background-color:#f7f7f6>[PAD] </mark><mark style=background-color:#f7f7f6>[PAD] </mark><mark style=background-color:#f7f7f6>[PAD] </mark><mark style=background-color:#f7f7f6>[PAD] </mark><mark style=background-color:#f7f7f6>[PAD] </mark><mark style=background-color:#f7f7f6>[PAD] </mark><mark style=background-color:#f7f7f6>[PAD] </mark><mark style=background-color:#f7f7f6>[PAD] </mark><mark style=background-color:#f7f7f6>[PAD] </mark><mark style=background-color:#f7f7f6>[PAD] </mark><mark style=background-color:#f7f7f6>[PAD] </mark><mark style=background-color:#f7f7f6>[PAD] </mark><mark style=background-color:#f7f7f6>[PAD] </mark><mark style=background-color:#f7f7f6>[PAD] </mark><mark style=background-color:#f7f7f6>[PAD] </mark><mark style=background-color:#f7f7f6>[PAD] </mark><mark style=background-color:#f7f7f6>[PAD] </mark><mark style=background-color:#f7f7f6>[PAD] </mark><mark style=background-color:#f7f7f6>[PAD] </mark><mark style=background-color:#f7f7f6>[PAD] </mark><mark style=background-color:#f7f7f6>[PAD] </mark><mark style=background-color:#f7f7f6>[PAD] </mark><mark style=background-color:#f7f7f6>[PAD] </mark><mark style=background-color:#f7f7f6>[PAD] </mark><mark style=background-color:#f7f7f6>[PAD] </mark><mark style=background-color:#f7f7f6>[PAD] </mark><mark style=background-color:#f7f7f6>[PAD] </mark><mark style=background-color:#f7f7f6>[PAD] </mark><mark style=background-color:#f7f7f6>[PAD] </mark><mark style=background-color:#f7f7f6>[PAD] </mark><mark style=background-color:#f7f7f6>[PAD] </mark><mark style=background-color:#f7f7f6>[PAD] </mark><mark style=background-color:#f7f7f6>[PAD] </mark><mark style=background-color:#f7f7f6>[PAD] </mark><mark style=background-color:#f7f7f6>[PAD] </mark><mark style=background-color:#f7f7f6>[PAD] </mark><mark style=background-color:#f7f7f6>[PAD] </mark><mark style=background-color:#f7f7f6>[PAD] </mark><mark style=background-color:#f7f7f6>[PAD] </mark><mark style=background-color:#f7f7f6>[PAD] </mark><mark style=background-color:#f7f7f6>[PAD] </mark><mark style=background-color:#f7f7f6>[PAD] </mark><mark style=background-color:#f7f7f6>[PAD] </mark><mark style=background-color:#f7f7f6>[PAD] </mark><mark style=background-color:#f7f7f6>[PAD] </mark><mark style=background-color:#f7f7f6>[PAD] </mark><mark style=background-color:#f7f7f6>[PAD] </mark><mark style=background-color:#f7f7f6>[PAD] </mark><mark style=background-color:#f7f7f6>[PAD] </mark><mark style=background-color:#f7f7f6>[PAD] </mark><mark style=background-color:#f7f7f6>[PAD] </mark><mark style=background-color:#f7f7f6>[PAD] </mark><mark style=background-color:#f7f7f6>[PAD] </mark><mark style=background-color:#f7f7f6>[PAD] </mark><mark style=background-color:#f7f7f6>[PAD] </mark><mark style=background-color:#f7f7f6>[PAD] </mark><mark style=background-color:#f7f7f6>[PAD] </mark><mark style=background-color:#f7f7f6>[PAD] </mark><mark style=background-color:#f7f7f6>[PAD] </mark><mark style=background-color:#f7f7f6>[PAD] </mark>"
      ],
      "text/plain": [
       "<IPython.core.display.HTML object>"
      ]
     },
     "execution_count": 34,
     "metadata": {},
     "output_type": "execute_result"
    }
   ],
   "source": [
    "words = tokenizer.decode(x_i).split()\n",
    "colors = colorize(attrs_i)\n",
    "print('Predicted label =  {}: {}'.format(pred, pred_dict[pred]))\n",
    "\n",
    "HTML(\"\".join(list(map(hlstr, words, colors))))"
   ]
  },
  {
   "cell_type": "markdown",
   "id": "086002d2-2a5c-42ab-8fe4-93527ab3ae8f",
   "metadata": {},
   "source": [
    "### Sentiment analysis on IMDB with fine-tuned model head.\n",
    "\n",
    "We consider a text classifier fine-tuned on the IMDB dataset. We train a feed forward network which uses the concatenated output embeddings of a pretrained BERT model as input features. The BERT model and the trained ffn are combined to obtain an end-to-end text classifier.\n",
    "\n",
    "It must be noted that training an end-to-end text classifier (i. e. combining the BERT model and the feed forward network before training) instead of training the feed forward network separately is likely to lead to better model performance. However, the latter approach is considerably faster and lighter. We use this approach here since performance optimization is beyond the scope of this notebook and the purpose of this example is to illustrate the integrated gradients method applied to a custom classifier."
   ]
  },
  {
   "cell_type": "code",
   "execution_count": 35,
   "id": "d1bd04c3-3800-49de-a31e-d8dec5286362",
   "metadata": {},
   "outputs": [],
   "source": [
    "def get_embeddings(X_train, model, batch_size=50):\n",
    "    args = X_train['input_ids']\n",
    "    # the values of the kwargs have to be `tf.Tensor`.\n",
    "    # see transformers issue #14404: https://github.com/huggingface/transformers/issues/14404\n",
    "    kwargs = {k: tf.constant(v) for k, v in  X_train.items() if k != 'input_ids'}\n",
    "    dataset = tf.data.Dataset.from_tensor_slices((args, kwargs)).batch(batch_size)\n",
    "\n",
    "    embbedings = []\n",
    "    for X_batch in tqdm(dataset):\n",
    "        args_b, kwargs_b = X_batch\n",
    "        batch_embeddings = model(args_b, **kwargs_b)\n",
    "        embbedings.append(batch_embeddings.last_hidden_state.numpy())\n",
    "\n",
    "    return np.concatenate(embbedings, axis=0)"
   ]
  },
  {
   "cell_type": "markdown",
   "id": "11273405-7fae-4c7b-81a4-388bdf977600",
   "metadata": {},
   "source": [
    "### Load and process data\n",
    "Loading the IMDB dataset."
   ]
  },
  {
   "cell_type": "code",
   "execution_count": 37,
   "id": "e6966868-f644-4f1e-9f4c-5260de35d9f1",
   "metadata": {},
   "outputs": [
    {
     "name": "stdout",
     "output_type": "stream",
     "text": [
      "Loading data...\n",
      "25000 train sequences\n",
      "25000 test sequences\n",
      "Pad sequences (samples x time)\n",
      "x_train shape: (25000, 100)\n",
      "x_test shape: (25000, 100)\n"
     ]
    }
   ],
   "source": [
    "print('Loading data...')\n",
    "(x_train, y_train), (x_test, y_test) = imdb.load_data(num_words=max_features)\n",
    "\n",
    "test_labels = y_test.copy()\n",
    "train_labels = y_train.copy()\n",
    "print(len(x_train), 'train sequences')\n",
    "print(len(x_test), 'test sequences')\n",
    "y_train, y_test = to_categorical(y_train), to_categorical(y_test)\n",
    "\n",
    "print('Pad sequences (samples x time)')\n",
    "x_train = sequence.pad_sequences(x_train, maxlen=max_len)\n",
    "x_test = sequence.pad_sequences(x_test, maxlen=max_len)\n",
    "print('x_train shape:', x_train.shape)\n",
    "print('x_test shape:', x_test.shape)\n",
    "\n",
    "index = imdb.get_word_index()\n",
    "reverse_index = {value: key for (key, value) in index.items()}"
   ]
  },
  {
   "cell_type": "markdown",
   "id": "04e99482-9f25-42d0-8d57-098de414ddbf",
   "metadata": {},
   "source": [
    "### Extract embeddings for training\n",
    "In order to speed up the training, the BERT embeddings are pre-extracted and used as features by the feed forward network."
   ]
  },
  {
   "cell_type": "code",
   "execution_count": 38,
   "id": "51e58c64-a064-4933-86fe-4b8534873d9c",
   "metadata": {},
   "outputs": [
    {
     "name": "stderr",
     "output_type": "stream",
     "text": [
      "Some layers from the model checkpoint at bert-base-uncased were not used when initializing TFBertModel: ['nsp___cls', 'mlm___cls']\n",
      "- This IS expected if you are initializing TFBertModel from the checkpoint of a model trained on another task or with another architecture (e.g. initializing a BertForSequenceClassification model from a BertForPreTraining model).\n",
      "- This IS NOT expected if you are initializing TFBertModel from the checkpoint of a model that you expect to be exactly identical (initializing a BertForSequenceClassification model from a BertForSequenceClassification model).\n",
      "All the layers of TFBertModel were initialized from the model checkpoint at bert-base-uncased.\n",
      "If your task is similar to the task the model of the checkpoint was trained on, you can already use TFBertModel for predictions without further training.\n"
     ]
    }
   ],
   "source": [
    "tokenizer = BertTokenizerFast.from_pretrained('bert-base-uncased')\n",
    "config = BertConfig.from_pretrained(\"bert-base-uncased\")\n",
    "modelBert = TFBertModel.from_pretrained(\"bert-base-uncased\", config=config)\n",
    "\n",
    "modelBert.trainable=False"
   ]
  },
  {
   "cell_type": "markdown",
   "id": "6003a1f2-1459-4e4d-9537-5b37ac04cf94",
   "metadata": {},
   "source": [
    "Decoding each sentence in the keras IMDB tokenized dataset to obtain the corresponding plain text."
   ]
  },
  {
   "cell_type": "code",
   "execution_count": 39,
   "id": "812d41dc-f571-41f3-b5a1-88f1449f3d40",
   "metadata": {},
   "outputs": [],
   "source": [
    "X_train, X_test = [], []\n",
    "for i in range(len(x_train)):\n",
    "    tr_sentence = decode_sentence(x_train[i], reverse_index)\n",
    "    X_train.append(tr_sentence)\n",
    "    te_sentence = decode_sentence(x_test[i], reverse_index)\n",
    "    X_test.append(te_sentence)"
   ]
  },
  {
   "cell_type": "markdown",
   "id": "66d82ed2-fbfd-41b7-8b76-4ee948e6e280",
   "metadata": {},
   "source": [
    "Re-tokenizing the plain text using the BERT tokenizer."
   ]
  },
  {
   "cell_type": "code",
   "execution_count": 40,
   "id": "3318bb02-e058-4175-acf0-a319dfa83381",
   "metadata": {},
   "outputs": [],
   "source": [
    "X_train = preprocess_reviews(X_train)\n",
    "X_train = process_sentences(X_train, tokenizer, max_len)\n",
    "X_test = preprocess_reviews(X_test)\n",
    "X_test = process_sentences(X_test, tokenizer, max_len)"
   ]
  },
  {
   "cell_type": "markdown",
   "id": "7b382267-9dd9-4e18-b6ac-184868e1f2e8",
   "metadata": {},
   "source": [
    "Extracting the BERT embeddings."
   ]
  },
  {
   "cell_type": "code",
   "execution_count": 41,
   "id": "3e44171a-4d89-49c8-ba8d-d72fe87d9d4c",
   "metadata": {},
   "outputs": [
    {
     "name": "stderr",
     "output_type": "stream",
     "text": [
      "100%|███████████████████████████████████████████████████████████████████████████████████████████████████████████████████████████████████████████| 250/250 [00:53<00:00,  4.65it/s]\n",
      "100%|███████████████████████████████████████████████████████████████████████████████████████████████████████████████████████████████████████████| 250/250 [00:54<00:00,  4.56it/s]\n"
     ]
    }
   ],
   "source": [
    "train_embbedings = get_embeddings(X_train,\n",
    "                                  modelBert,\n",
    "                                  batch_size=100)\n",
    "test_embbedings = get_embeddings(X_test,\n",
    "                                 modelBert,\n",
    "                                 batch_size=100)"
   ]
  },
  {
   "cell_type": "markdown",
   "id": "fbaee26a-6e9f-4ebb-ab2f-436c062a04e1",
   "metadata": {},
   "source": [
    "### Train model\n",
    "Here we train the model head using the BERT output embeddings as features. The output embeddings are tensors of dimension 100 X 768, where each 768-dimensional vector represents a word in a sentence of 100 words. The embedding vectors are concatenated along the first dimension in order to represents a full review. The model head consists of one dense layer 128 hidden units followed by a 2 units layer with softmax activation."
   ]
  },
  {
   "cell_type": "code",
   "execution_count": 42,
   "id": "ba63d10a-47e7-4d3d-80e1-7739b3a833e3",
   "metadata": {},
   "outputs": [],
   "source": [
    "dropout = 0.1\n",
    "hidden_dims = 128"
   ]
  },
  {
   "cell_type": "code",
   "execution_count": 43,
   "id": "2c118c9a-c9fd-4e9f-a31e-56a9230cae11",
   "metadata": {},
   "outputs": [],
   "source": [
    "class ModelOut(tf.keras.Model):\n",
    "\n",
    "    def __init__(self,\n",
    "                 dropout=0.2,\n",
    "                 hidden_dims=128):\n",
    "        super().__init__()\n",
    "\n",
    "        self.dropout = dropout\n",
    "        self.hidden_dims = hidden_dims\n",
    "\n",
    "        self.flat = tf.keras.layers.Flatten()\n",
    "        self.dense_1 =  tf.keras.layers.Dense(hidden_dims,\n",
    "                                              activation='relu')\n",
    "        self.dropoutl = tf.keras.layers.Dropout(dropout)\n",
    "        self.dense_2 = tf.keras.layers.Dense(2,\n",
    "                                             activation='softmax')\n",
    "\n",
    "    def call(self, inputs):\n",
    "        x = self.flat(inputs)\n",
    "        x = self.dense_1(x)\n",
    "        x = self.dropoutl(x)\n",
    "        x = self.dense_2(x)\n",
    "        return x\n",
    "\n",
    "    def get_config(self):\n",
    "        return {\"dropout\": self.dropout,\n",
    "                \"hidden_dims\": self.hidden_dims}\n",
    "\n",
    "    @classmethod\n",
    "    def from_config(cls, config):\n",
    "        return cls(**config)"
   ]
  },
  {
   "cell_type": "code",
   "execution_count": 44,
   "id": "6e5f5def-9020-4fb1-ae4c-6ff6c544d300",
   "metadata": {},
   "outputs": [],
   "source": [
    "model_out = ModelOut(dropout=dropout, hidden_dims=hidden_dims)"
   ]
  },
  {
   "cell_type": "markdown",
   "id": "c45ecb3a-ab69-4e23-9dd6-3c4ac2e240ae",
   "metadata": {},
   "source": [
    "Training the model. If the model has been already trained, it can be loaded from the checkpoint directory setting load_model=True."
   ]
  },
  {
   "cell_type": "code",
   "execution_count": 45,
   "id": "b8b9a858-464e-403d-965b-787050d755a9",
   "metadata": {},
   "outputs": [],
   "source": [
    "load_model = False\n",
    "batch_size = 128\n",
    "epochs = 3"
   ]
  },
  {
   "cell_type": "code",
   "execution_count": 46,
   "id": "e5e494f5-479c-40c7-96f4-58009a07b6aa",
   "metadata": {},
   "outputs": [
    {
     "name": "stderr",
     "output_type": "stream",
     "text": [
      "2021-12-29 12:22:00.121282: W tensorflow/core/framework/cpu_allocator_impl.cc:80] Allocation of 7680000000 exceeds 10% of free system memory.\n",
      "2021-12-29 12:22:03.170570: W tensorflow/core/framework/cpu_allocator_impl.cc:80] Allocation of 7680000000 exceeds 10% of free system memory.\n"
     ]
    },
    {
     "name": "stdout",
     "output_type": "stream",
     "text": [
      "Epoch 1/3\n",
      "196/196 [==============================] - 2s 9ms/step - loss: 0.5787 - accuracy: 0.7144 - val_loss: 0.4419 - val_accuracy: 0.7800\n",
      "\n",
      "Epoch 00001: saving model to ./model_transformers/training/cp-0001.ckpt\n",
      "Epoch 2/3\n",
      "196/196 [==============================] - 2s 9ms/step - loss: 0.4484 - accuracy: 0.7914 - val_loss: 0.4358 - val_accuracy: 0.8100\n",
      "\n",
      "Epoch 00002: saving model to ./model_transformers/training/cp-0002.ckpt\n",
      "Epoch 3/3\n",
      "196/196 [==============================] - 2s 9ms/step - loss: 0.4078 - accuracy: 0.8142 - val_loss: 0.4623 - val_accuracy: 0.7800\n",
      "\n",
      "Epoch 00003: saving model to ./model_transformers/training/cp-0003.ckpt\n"
     ]
    }
   ],
   "source": [
    "filepath = './model_transformers/'  # change to desired save directory\n",
    "\n",
    "model_out.compile(optimizer=Adam(1e-4),\n",
    "                  loss='categorical_crossentropy',\n",
    "                  metrics=['accuracy'])\n",
    "\n",
    "if not load_model:\n",
    "\n",
    "    checkpoint_path = os.path.join(filepath, \"training/cp-{epoch:04d}.ckpt\")\n",
    "    checkpoint_dir = os.path.dirname(checkpoint_path)\n",
    "\n",
    "    # Create a callback that saves the model's weights every epoch\n",
    "    cp_callback = tf.keras.callbacks.ModelCheckpoint(\n",
    "        filepath=checkpoint_path,\n",
    "        verbose=1,\n",
    "        save_weights_only=True,\n",
    "        save_freq='epoch')\n",
    "\n",
    "    # using the entire testing dataset might result in memory issues when running on GPU\n",
    "    model_out.fit(train_embbedings, y_train,\n",
    "                  validation_data=(test_embbedings[:100], y_test[:100]),\n",
    "                  epochs=epochs,\n",
    "                  batch_size=batch_size,\n",
    "                  callbacks=[cp_callback],\n",
    "                  verbose=1)\n",
    "else:\n",
    "    epoch = 3\n",
    "    load_path = os.path.join(filepath, f\"training/cp-{epoch:04d}.ckpt\")\n",
    "    model_out.load_weights(load_path)"
   ]
  },
  {
   "cell_type": "markdown",
   "id": "ce525585-5342-4a98-8e98-282e4382e38c",
   "metadata": {},
   "source": [
    "### Combine BERT and feed forward network\n",
    "\n",
    "Here we combine the BERT model with the model head to obtain an end-to-end text classifier."
   ]
  },
  {
   "cell_type": "code",
   "execution_count": 47,
   "id": "ed5ba4db-067b-4a91-bb6f-c7fbb9a1f85f",
   "metadata": {},
   "outputs": [],
   "source": [
    "class TextClassifier(tf.keras.Model):\n",
    "\n",
    "    def __init__(self, model_bert, model_out):\n",
    "        super().__init__()\n",
    "        self.model_bert = model_bert\n",
    "        self.model_out = model_out\n",
    "\n",
    "    def call(self, inputs, attention_mask=None):\n",
    "        out = self.model_bert(inputs, attention_mask=attention_mask)\n",
    "        out = self.model_out(out.last_hidden_state)\n",
    "        return out\n",
    "\n",
    "    def get_config(self):\n",
    "        return {}\n",
    "\n",
    "    @classmethod\n",
    "    def from_config(cls, config):\n",
    "        return cls(**config)"
   ]
  },
  {
   "cell_type": "code",
   "execution_count": 48,
   "id": "5aec5195-9aa8-4e2c-a925-c0a3f26c691e",
   "metadata": {},
   "outputs": [],
   "source": [
    "text_classifier = TextClassifier(modelBert, model_out)"
   ]
  },
  {
   "cell_type": "markdown",
   "id": "e795d8ba-af8f-47f1-bd41-8cbca33b2f79",
   "metadata": {},
   "source": [
    "### Calculate integrated gradients\n",
    "\n",
    "We pick the first 10 sentences from the test set as examples."
   ]
  },
  {
   "cell_type": "code",
   "execution_count": 49,
   "id": "06145e76-a557-4b18-b237-afebb52693ce",
   "metadata": {},
   "outputs": [],
   "source": [
    "z_test_sample = [decode_sentence(x_test[i], reverse_index) for i in range(10)]\n",
    "z_test_sample = preprocess_reviews(z_test_sample)\n",
    "z_test_sample = process_sentences(z_test_sample, tokenizer, max_len)\n",
    "\n",
    "x_test_sample = z_test_sample['input_ids']\n",
    "# the values of the kwargs have to be `tf.Tensor`.\n",
    "# see transformers issue #14404: https://github.com/huggingface/transformers/issues/14404\n",
    "kwargs = {k:tf.constant(v) for k,v in z_test_sample.items() if k == 'attention_mask'}"
   ]
  },
  {
   "cell_type": "markdown",
   "id": "afd167e5-3189-46dc-b2f6-2d94d25fcdec",
   "metadata": {},
   "source": [
    "We calculate the attributions with respect to the first embedding layer of the BERT encoder."
   ]
  },
  {
   "cell_type": "code",
   "execution_count": 50,
   "id": "4d951844-5aab-45b1-a471-3a6f70c9d8ab",
   "metadata": {},
   "outputs": [],
   "source": [
    "bl = text_classifier.layers[0].bert.encoder.layer[0]"
   ]
  },
  {
   "cell_type": "code",
   "execution_count": 51,
   "id": "4e8de357-e097-412f-a3b3-3aa32a4e53b3",
   "metadata": {},
   "outputs": [],
   "source": [
    "n_steps = 5\n",
    "method = \"gausslegendre\"\n",
    "internal_batch_size = 5\n",
    "ig  = IntegratedGradients(text_classifier,\n",
    "                          layer=bl,\n",
    "                          n_steps=n_steps,\n",
    "                          method=method,\n",
    "                          internal_batch_size=internal_batch_size)"
   ]
  },
  {
   "cell_type": "code",
   "execution_count": 52,
   "id": "b7eb3189-286b-4d32-8e36-26f52f194a51",
   "metadata": {},
   "outputs": [],
   "source": [
    "predictions = text_classifier(x_test_sample, **kwargs).numpy().argmax(axis=1)\n",
    "explanation = ig.explain(x_test_sample,\n",
    "                         forward_kwargs=kwargs,\n",
    "                         baselines=None,\n",
    "                         target=predictions)"
   ]
  },
  {
   "cell_type": "code",
   "execution_count": 53,
   "id": "e1cca546-b946-4dad-89eb-70fd46c176a5",
   "metadata": {},
   "outputs": [
    {
     "name": "stdout",
     "output_type": "stream",
     "text": [
      "Attributions shape: (10, 100, 768)\n",
      "Attributions shape: (10, 100)\n"
     ]
    }
   ],
   "source": [
    "# Get attributions values from the explanation object\n",
    "attrs = explanation.attributions[0]\n",
    "print('Attributions shape:', attrs.shape)\n",
    "\n",
    "attrs = attrs.sum(axis=2)\n",
    "print('Attributions shape:', attrs.shape)\n",
    "\n",
    "i = 1\n",
    "x_i = x_test_sample[i]\n",
    "attrs_i = attrs[i]\n",
    "pred = predictions[i]\n",
    "pred_dict = {1: 'Positive review', 0: 'Negative review'}"
   ]
  },
  {
   "cell_type": "code",
   "execution_count": 54,
   "id": "3f91804d-e715-4f0a-a18e-155a22d3959b",
   "metadata": {},
   "outputs": [],
   "source": [
    "from IPython.display import HTML\n",
    "def  hlstr(string, color='white'):\n",
    "    \"\"\"\n",
    "    Return HTML markup highlighting text with the desired color.\n",
    "    \"\"\"\n",
    "    return f\"<mark style=background-color:{color}>{string} </mark>\""
   ]
  },
  {
   "cell_type": "code",
   "execution_count": 57,
   "id": "95f0c66e-70a3-4237-a4f2-95e95b28451b",
   "metadata": {},
   "outputs": [],
   "source": [
    "def colorize(attrs, cmap='PiYG'):\n",
    "    \"\"\"\n",
    "    Compute hex colors based on the attributions for a single instance.\n",
    "    Uses a diverging colorscale by default and normalizes and scales\n",
    "    the colormap so that colors are consistent with the attributions.\n",
    "    \"\"\"\n",
    "    import matplotlib as mpl\n",
    "    cmap_bound = np.abs(attrs).max()\n",
    "    norm = mpl.colors.Normalize(vmin=-cmap_bound, vmax=cmap_bound)\n",
    "    cmap = mpl.cm.get_cmap(cmap)\n",
    "\n",
    "    # now compute hex values of colors\n",
    "    colors = list(map(lambda x: mpl.colors.rgb2hex(cmap(norm(x))), attrs))\n",
    "    return colors"
   ]
  },
  {
   "cell_type": "code",
   "execution_count": 58,
   "id": "c3d7efdc-2211-49be-8132-22dbce5d73ac",
   "metadata": {},
   "outputs": [
    {
     "name": "stdout",
     "output_type": "stream",
     "text": [
      "Predicted label =  1: Positive review\n"
     ]
    },
    {
     "data": {
      "text/html": [
       "<mark style=background-color:#faebf3>a </mark><mark style=background-color:#81bd44>powerful </mark><mark style=background-color:#cbe9a4>study </mark><mark style=background-color:#dff2c4>of </mark><mark style=background-color:#fbe9f2>loneliness </mark><mark style=background-color:#f1f6ea>sexual </mark><mark style=background-color:#f5f7f2>unk </mark><mark style=background-color:#eef6e2>and </mark><mark style=background-color:#f3f6ed>desperation </mark><mark style=background-color:#d0ecad>be </mark><mark style=background-color:#cbe9a4>patient </mark><mark style=background-color:#f4f7f0>unk </mark><mark style=background-color:#f2f6ec>up </mark><mark style=background-color:#e9f5d8>the </mark><mark style=background-color:#e7f5d2>atmosphere </mark><mark style=background-color:#7fbc41>and </mark><mark style=background-color:#e9f5d6>pay </mark><mark style=background-color:#e7f5d2>attention </mark><mark style=background-color:#b2dd7f>to </mark><mark style=background-color:#d9f0bc>the </mark><mark style=background-color:#f3f7ef>wonderfully </mark><mark style=background-color:#f8f2f5>written </mark><mark style=background-color:#acd977>script </mark><mark style=background-color:#ebf6db>br </mark><mark style=background-color:#c4e699>br </mark><mark style=background-color:#d965a4>i </mark><mark style=background-color:#fbe8f2>praise </mark><mark style=background-color:#ea9fca>robert </mark><mark style=background-color:#cbe9a4>altman </mark><mark style=background-color:#f9eef4>this </mark><mark style=background-color:#e7f5d3>is </mark><mark style=background-color:#c6e79c>one </mark><mark style=background-color:#bee490>of </mark><mark style=background-color:#fce5f1>his </mark><mark style=background-color:#f1f6e8>many </mark><mark style=background-color:#d8efb9>films </mark><mark style=background-color:#f2f6ec>that </mark><mark style=background-color:#eff6e4>deals </mark><mark style=background-color:#faeaf2>with </mark><mark style=background-color:#f2f6ec>unconventional </mark><mark style=background-color:#fbe9f2>fascinating </mark><mark style=background-color:#f1f6ea>subject </mark><mark style=background-color:#f8f4f6>matter </mark><mark style=background-color:#ebf6dc>this </mark><mark style=background-color:#c4e699>film </mark><mark style=background-color:#aeda7a>is </mark><mark style=background-color:#eff6e5>disturbing </mark><mark style=background-color:#98cc5f>but </mark><mark style=background-color:#e7f5d2>its </mark><mark style=background-color:#dff2c4>sincere </mark><mark style=background-color:#f1f6ea>and </mark><mark style=background-color:#eaf5d9>its </mark><mark style=background-color:#edf6df>sure </mark><mark style=background-color:#f9eff4>to </mark><mark style=background-color:#f9eff4>unk </mark><mark style=background-color:#f3f6ed>a </mark><mark style=background-color:#ddf1c1>strong </mark><mark style=background-color:#fde2f0>emotional </mark><mark style=background-color:#f8f2f5>response </mark><mark style=background-color:#f3f6ed>from </mark><mark style=background-color:#d4edb3>the </mark><mark style=background-color:#d9f0bc>viewer </mark><mark style=background-color:#cbe9a4>if </mark><mark style=background-color:#e9f5d8>you </mark><mark style=background-color:#f2f6ec>want </mark><mark style=background-color:#fcdded>to </mark><mark style=background-color:#77b53c>see </mark><mark style=background-color:#f1f6ea>an </mark><mark style=background-color:#dbf0bf>unusual </mark><mark style=background-color:#ddf1c1>film </mark><mark style=background-color:#f2f6ec>some </mark><mark style=background-color:#f9f0f5>might </mark><mark style=background-color:#f7cce5>even </mark><mark style=background-color:#fbe7f2>say </mark><mark style=background-color:#faecf3>bizarre </mark><mark style=background-color:#e9f5d6>this </mark><mark style=background-color:#e795c3>is </mark><mark style=background-color:#fad6ea>worth </mark><mark style=background-color:#f1f6e8>the </mark><mark style=background-color:#fce3f0>time </mark><mark style=background-color:#bde38d>br </mark><mark style=background-color:#e1f3c7>br </mark><mark style=background-color:#f3f7ef>unfortunately </mark><mark style=background-color:#f9eef4>its </mark><mark style=background-color:#fad6ea>very </mark><mark style=background-color:#f0b2d7>difficult </mark><mark style=background-color:#e9f5d8>to </mark><mark style=background-color:#8e0152>find </mark><mark style=background-color:#eff6e4>in </mark><mark style=background-color:#f7cbe4>video </mark><mark style=background-color:#f9f0f5>stores </mark><mark style=background-color:#fde1ef>you </mark><mark style=background-color:#f9d3e8>may </mark><mark style=background-color:#fad6ea>have </mark><mark style=background-color:#faebf3>to </mark>"
      ],
      "text/plain": [
       "<IPython.core.display.HTML object>"
      ]
     },
     "execution_count": 58,
     "metadata": {},
     "output_type": "execute_result"
    }
   ],
   "source": [
    "words = tokenizer.decode(x_i).split()\n",
    "colors = colorize(attrs_i)\n",
    "print('Predicted label =  {}: {}'.format(pred, pred_dict[pred]))\n",
    "\n",
    "HTML(\"\".join(list(map(hlstr, words, colors))))"
   ]
  },
  {
   "cell_type": "code",
   "execution_count": null,
   "id": "4afbe269-70d7-466f-87b1-23a69d5bd128",
   "metadata": {},
   "outputs": [],
   "source": []
  }
 ],
 "metadata": {
  "kernelspec": {
   "display_name": "Python 3 (ipykernel)",
   "language": "python",
   "name": "python3"
  },
  "language_info": {
   "codemirror_mode": {
    "name": "ipython",
    "version": 3
   },
   "file_extension": ".py",
   "mimetype": "text/x-python",
   "name": "python",
   "nbconvert_exporter": "python",
   "pygments_lexer": "ipython3",
   "version": "3.7.11"
  }
 },
 "nbformat": 4,
 "nbformat_minor": 5
}
