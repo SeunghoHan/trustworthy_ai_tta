{
 "cells": [
  {
   "cell_type": "markdown",
   "id": "361b6dd7-9f87-4d76-8364-8ad10c135e0a",
   "metadata": {},
   "source": [
    "# 0. Demo Introduciton\n",
    "\n",
    "### Explainabiltiy를 위한 오픈소스 도구 \n",
    "1. [AIX306](https://aix360.mybluemix.net/): Data explanation, local/global explanation, direct/post-hoc explanation으로 구분하여 약 10개의 XAI 기법을 API로 제공 **->(시연 활용도 O)**\n",
    "1. [Google Responsible AI practices](https://ai.google/responsibilities/responsible-ai-practices/?category=interpretability): API나 소스코드 제공 X **->(시연 활용도 X)**\n",
    "1. [MS InterpretML](https://github.com/interpretml/interpret): Glassbox 및 blackbox model 각각 4개씩 XAI 기법을 API로 제공 **->(시연 활용도 O)**\n",
    "1. [Alibi Explain](https://github.com/SeldonIO/alibi#model-explanations): 약 10가지의 XAI 기법에 대한 API 제공 **->(시연 활용도 O)**\n"
   ]
  },
  {
   "cell_type": "markdown",
   "id": "14096b97-da82-4036-a52c-43a18c1cc3dd",
   "metadata": {},
   "source": [
    "## 0-1. Explainers provided by Alibi"
   ]
  },
  {
   "cell_type": "code",
   "execution_count": 1,
   "id": "de49ff25-d169-4be0-a8f5-bde531f8fc73",
   "metadata": {},
   "outputs": [
    {
     "name": "stderr",
     "output_type": "stream",
     "text": [
      "/archive/library/anaconda3/envs/tta/lib/python3.7/site-packages/redis/connection.py:72: UserWarning: redis-py works best with hiredis. Please consider installing\n",
      "  warnings.warn(msg)\n"
     ]
    },
    {
     "data": {
      "text/plain": [
       "['ALE',\n",
       " 'AnchorTabular',\n",
       " 'DistributedAnchorTabular',\n",
       " 'AnchorText',\n",
       " 'AnchorImage',\n",
       " 'CEM',\n",
       " 'Counterfactual',\n",
       " 'CounterfactualProto',\n",
       " 'CounterfactualRL',\n",
       " 'CounterfactualRLTabular',\n",
       " 'plot_ale',\n",
       " 'IntegratedGradients',\n",
       " 'KernelShap',\n",
       " 'TreeShap']"
      ]
     },
     "execution_count": 1,
     "metadata": {},
     "output_type": "execute_result"
    }
   ],
   "source": [
    "import alibi\n",
    "alibi.explainers.__all__"
   ]
  },
  {
   "cell_type": "code",
   "execution_count": null,
   "id": "55f3f237-79cf-4327-a554-ed09b6e72e75",
   "metadata": {},
   "outputs": [],
   "source": []
  }
 ],
 "metadata": {
  "kernelspec": {
   "display_name": "Python 3 (ipykernel)",
   "language": "python",
   "name": "python3"
  },
  "language_info": {
   "codemirror_mode": {
    "name": "ipython",
    "version": 3
   },
   "file_extension": ".py",
   "mimetype": "text/x-python",
   "name": "python",
   "nbconvert_exporter": "python",
   "pygments_lexer": "ipython3",
   "version": "3.7.11"
  }
 },
 "nbformat": 4,
 "nbformat_minor": 5
}
